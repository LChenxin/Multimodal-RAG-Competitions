{
 "cells": [
  {
   "cell_type": "code",
   "execution_count": 1,
   "id": "a1b152f2",
   "metadata": {},
   "outputs": [],
   "source": [
    "import json\n",
    "import os\n",
    "\n",
    "import hashlib\n",
    "from typing import List, Dict, Any\n",
    "from tqdm import tqdm\n",
    "import sys\n",
    "import concurrent.futures\n",
    "import random\n",
    "\n",
    "from get_text_embedding import get_text_embedding\n",
    "\n",
    "from dotenv import load_dotenv\n",
    "from openai import OpenAI\n",
    "import os, requests"
   ]
  },
  {
   "cell_type": "code",
   "execution_count": 2,
   "id": "17e1ca5e",
   "metadata": {},
   "outputs": [],
   "source": [
    "# 1) Install/Imports (run once; skip install if already available)\n",
    "# %pip install -q sentence-transformers rank_bm25 jieba\n",
    "#from sentence_transformers import CrossEncoder\n",
    "from rank_bm25 import BM25Okapi\n",
    "import jieba, re, numpy as np\n"
   ]
  },
  {
   "cell_type": "code",
   "execution_count": 3,
   "id": "1e717a23",
   "metadata": {},
   "outputs": [],
   "source": [
    "# # Build windows from existing MinerU chunks: all_pdf_page_chunks.json -> all_pdf_windows.json RUN ONCE FIX page\n",
    "# import json, re, hashlib\n",
    "# from pathlib import Path\n",
    "\n",
    "# SRC = Path(\"./all_pdf_page_chunks_mineru.json\")          # MinerU output you already have\n",
    "# DST = Path(\"./all_pdf_windows_mineru.json\")              # new, windowized chunks\n",
    "\n",
    "# HDR = re.compile(r\"^(#{1,3})\\s+.+\", re.M)         # #, ##, ### headings\n",
    "# FIG = re.compile(r\"!\\[[^\\]]*\\]\\([^)]+\\)\")         # markdown images\n",
    "# TB  = re.compile(r\"<table[\\s\\S]*?</table>\", re.I)  # html tables\n",
    "\n",
    "# def _norm(s): return re.sub(r\"\\s+\", \" \", (s or \"\").strip())\n",
    "\n",
    "# def split_by_headers(md: str):\n",
    "#     # keep figure/table blocks as atomic spans\n",
    "#     blocks = []\n",
    "#     # placeholder tokens for figures/tables\n",
    "#     fig_tokens, tab_tokens = [], []\n",
    "#     def _stash(pattern, text, token_prefix):\n",
    "#         out, toks, i = text, [], 0\n",
    "#         for m in pattern.finditer(text):\n",
    "#             tok = f\"__{token_prefix}_{i}__\"\n",
    "#             toks.append((tok, m.group(0)))\n",
    "#             out = out.replace(m.group(0), tok, 1)\n",
    "#             i += 1\n",
    "#         return out, toks\n",
    "#     text, figs = _stash(FIG, md, \"FIG\")\n",
    "#     text, tabs = _stash(TB,  text, \"TAB\")\n",
    "\n",
    "#     # split by headers; if none, single block\n",
    "#     parts = []\n",
    "#     last = 0\n",
    "#     for m in HDR.finditer(text):\n",
    "#         if m.start() > last:\n",
    "#             parts.append(text[last:m.start()])\n",
    "#         parts.append(text[m.start():m.end()])  # header line as its own piece\n",
    "#         last = m.end()\n",
    "#     if last < len(text):\n",
    "#         parts.append(text[last:])\n",
    "\n",
    "#     # restore tokens\n",
    "#     def _restore(s, toks):\n",
    "#         for tok, val in toks:\n",
    "#             s = s.replace(tok, val)\n",
    "#         return s\n",
    "#     parts = [_restore(_restore(p, figs), tabs) for p in parts]\n",
    "#     # drop empties\n",
    "#     parts = [p for p in parts if _norm(p)]\n",
    "#     return parts\n",
    "\n",
    "# def windowize(parts, target=900, overlap=150):\n",
    "#     out, buf = [], \"\"\n",
    "#     for p in parts:\n",
    "#         p = _norm(p)\n",
    "#         if len(p) <= target:\n",
    "#             if len(buf) + len(p) + 1 <= target:\n",
    "#                 buf = (buf + \" \" + p).strip()\n",
    "#             else:\n",
    "#                 if buf: out.append(buf)\n",
    "#                 tail = buf[-overlap:] if buf and overlap else \"\"\n",
    "#                 buf = (tail + \" \" + p).strip()\n",
    "#         else:\n",
    "#             # long piece -> sliding windows\n",
    "#             stride = max(50, target - overlap)\n",
    "#             i = 0\n",
    "#             while i < len(p):\n",
    "#                 out.append(_norm(p[i:i+target]))\n",
    "#                 i += stride\n",
    "#     if buf: out.append(buf)\n",
    "#     return out\n",
    "\n",
    "# print(\"Loading MinerU page chunks…\")\n",
    "# chunks = json.loads(Path(SRC).read_text(encoding=\"utf-8\"))\n",
    "# print(f\"Loaded {len(chunks)} page-chunks\")\n",
    "\n",
    "# seen, windows = set(), []\n",
    "# for c in chunks:\n",
    "#     file = c[\"metadata\"][\"file_name\"]\n",
    "#     page = int(c[\"metadata\"][\"page\"])+1   # shift 1 , quick fix for the fucked up in mineru process\n",
    "#     parts = split_by_headers(c[\"content\"])\n",
    "#     wins  = windowize(parts, target=900, overlap=150)\n",
    "#     for widx, w in enumerate(wins):\n",
    "#         h = hashlib.md5(_norm(w).encode()).hexdigest()\n",
    "#         if h in seen: \n",
    "#             continue\n",
    "#         seen.add(h)\n",
    "#         windows.append({\n",
    "#             \"id\": f\"{c['id']}_w{widx}\",\n",
    "#             \"content\": w,\n",
    "#             \"metadata\": {\n",
    "#                 \"file_name\": file,\n",
    "#                 \"page\": page,         \n",
    "#                 \"widx\": widx\n",
    "#             }\n",
    "#         })\n",
    "\n",
    "# print(f\"Built {len(windows)} windows\")\n",
    "# DST.write_text(json.dumps(windows, ensure_ascii=False, indent=2), encoding=\"utf-8\")\n",
    "# print(f\"Saved -> {DST}\")"
   ]
  },
  {
   "cell_type": "code",
   "execution_count": 4,
   "id": "1597c84d",
   "metadata": {},
   "outputs": [],
   "source": [
    "# Add these helpers near your RAG class\n",
    "\n",
    "from collections import defaultdict\n",
    "import numpy as np\n",
    "\n",
    "def page_vote(ranked_chunks, top_m_pages=1, agg=\"max\"):\n",
    "    \"\"\"\n",
    "    ranked_chunks: list already reranked by your reranker (desc)\n",
    "    Aggregate scores per (file_name, page) and return chunks from the winning page(s).\n",
    "    \"\"\"\n",
    "    buckets = defaultdict(list)\n",
    "    for c in ranked_chunks:\n",
    "        key = (c[\"metadata\"][\"file_name\"], int(c[\"metadata\"][\"page\"]))\n",
    "        s = c.get(\"rerank_score\", c.get(\"ret_score\", 0.0))\n",
    "        buckets[key].append(float(s))\n",
    "\n",
    "    def agg_fn(v):\n",
    "        v = np.asarray(v, float)\n",
    "        if agg == \"sum\": return v.sum()\n",
    "        if agg == \"mean\": return v.mean()\n",
    "        return v.max()\n",
    "\n",
    "    scored_pages = sorted([(k, agg_fn(v)) for k, v in buckets.items()], key=lambda x: x[1], reverse=True)\n",
    "    keep_keys = set(k for k,_ in scored_pages[:top_m_pages])\n",
    "    return [c for c in ranked_chunks if (c[\"metadata\"][\"file_name\"], int(c[\"metadata\"][\"page\"])) in keep_keys]\n",
    "\n",
    "def expand_neighbors_on_page(page_chunks, radius=1, max_total=8):\n",
    "    # Assumes all chunks are from the same (file,page); use their widx to add neighbors\n",
    "    page_chunks = sorted(page_chunks, key=lambda x: x[\"metadata\"].get(\"widx\", 0))\n",
    "    out = []\n",
    "    picked = set()\n",
    "    for c in page_chunks[:max_total]:\n",
    "        w = c[\"metadata\"].get(\"widx\", 0)\n",
    "        for j in range(max(0, w - radius), min(len(page_chunks), w + radius + 1)):\n",
    "            cj = page_chunks[j]\n",
    "            key = cj[\"metadata\"].get(\"widx\", j)\n",
    "            if key in picked: \n",
    "                continue\n",
    "            picked.add(key); out.append(cj)\n",
    "            if len(out) >= max_total: \n",
    "                return out\n",
    "    return out or page_chunks[:max_total]\n"
   ]
  },
  {
   "cell_type": "code",
   "execution_count": 5,
   "id": "d8697dc6",
   "metadata": {},
   "outputs": [],
   "source": [
    "class SiliconFlowReranker:\n",
    "    def __init__(self, api_key: str = None,\n",
    "                 model: str = \"BAAI/bge-reranker-v2-m3\",\n",
    "                 endpoint: str = \"https://api.siliconflow.cn/v1/rerank\",\n",
    "                 timeout: int = 30,\n",
    "                 max_retries: int = 4):\n",
    "        self.api_key = api_key or os.getenv('LOCAL_API_KEY')\n",
    "        if not self.api_key:\n",
    "            raise ValueError(\"Missing SILICONFLOW_API_KEY\")\n",
    "        self.model = model\n",
    "        self.endpoint = endpoint\n",
    "        self.timeout = timeout\n",
    "        self.max_retries = max_retries\n",
    "\n",
    "    def rerank(self, question: str, candidates: list, return_meta: bool = False):\n",
    "        \"\"\"\n",
    "        Returns:\n",
    "          ranked_chunks, meta where meta = {\"status\": http_status or None, \"attempts\": N}\n",
    "        Retries on 429/5xx with exponential backoff.\n",
    "        \"\"\"\n",
    "        import time, requests\n",
    "\n",
    "        docs = [c[\"content\"] for c in candidates]\n",
    "        payload = {\"model\": self.model, \"query\": question, \"documents\": docs}\n",
    "        headers = {\"Authorization\": f\"Bearer {self.api_key}\", \"Content-Type\": \"application/json\"}\n",
    "\n",
    "        status = None\n",
    "        attempts = 0\n",
    "        data = None\n",
    "\n",
    "        for attempt in range(self.max_retries):\n",
    "            attempts = attempt + 1\n",
    "            try:\n",
    "                r = requests.post(self.endpoint, json=payload, headers=headers, timeout=self.timeout)\n",
    "                status = r.status_code\n",
    "                if status in (429, 500, 502, 503, 504):\n",
    "                    time.sleep(2 ** attempt)  # backoff\n",
    "                    continue\n",
    "                r.raise_for_status()\n",
    "                data = r.json()\n",
    "                break\n",
    "            except requests.RequestException:\n",
    "                time.sleep(2 ** attempt)\n",
    "\n",
    "        ranked = []\n",
    "        if data:\n",
    "            results = data.get(\"results\") or data.get(\"data\") or []\n",
    "            seen = set()\n",
    "            for res in results:\n",
    "                idx = res.get(\"index\")\n",
    "                if idx is None or idx >= len(candidates):\n",
    "                    continue\n",
    "                seen.add(idx)\n",
    "                c = dict(candidates[idx])\n",
    "                c[\"rerank_score\"] = float(res.get(\"relevance_score\", 0.0))\n",
    "                ranked.append(c)\n",
    "            for i, c in enumerate(candidates):\n",
    "                if i not in seen:\n",
    "                    cc = dict(c)\n",
    "                    cc[\"rerank_score\"] = 0.0\n",
    "                    ranked.append(cc)\n",
    "            ranked.sort(key=lambda x: x[\"rerank_score\"], reverse=True)\n",
    "\n",
    "        if return_meta:\n",
    "            return ranked, {\"status\": status, \"attempts\": attempts}\n",
    "        return ranked"
   ]
  },
  {
   "cell_type": "code",
   "execution_count": 6,
   "id": "add01a48",
   "metadata": {},
   "outputs": [],
   "source": [
    "class PageChunkLoader:\n",
    "    def __init__(self, json_path: str):\n",
    "        self.json_path = json_path\n",
    "    def load_chunks(self) -> List[Dict[str, Any]]:\n",
    "        with open(self.json_path, 'r', encoding='utf-8') as f:\n",
    "            return json.load(f)"
   ]
  },
  {
   "cell_type": "code",
   "execution_count": 7,
   "id": "afbb00f3",
   "metadata": {},
   "outputs": [],
   "source": [
    "class EmbeddingModel:\n",
    "    def __init__(self, batch_size: int = 64):\n",
    "        self.api_key = os.getenv('LOCAL_API_KEY')\n",
    "        self.base_url = os.getenv('LOCAL_BASE_URL')\n",
    "        self.embedding_model = os.getenv('LOCAL_EMBEDDING_MODEL')\n",
    "        self.batch_size = batch_size\n",
    "        if not self.api_key or not self.base_url:\n",
    "            raise ValueError('请在.env中配置LOCAL_API_KEY和LOCAL_BASE_URL')\n",
    "\n",
    "    def embed_texts(self, texts: List[str]) -> List[List[float]]:\n",
    "        return get_text_embedding(\n",
    "            texts,\n",
    "            api_key=self.api_key,\n",
    "            base_url=self.base_url,\n",
    "            embedding_model=self.embedding_model,\n",
    "            batch_size=self.batch_size\n",
    "        )\n",
    "\n",
    "    def embed_text(self, text: str) -> List[float]:\n",
    "        return self.embed_texts([text])[0]"
   ]
  },
  {
   "cell_type": "code",
   "execution_count": 8,
   "id": "e741cd06",
   "metadata": {},
   "outputs": [],
   "source": [
    "class SimpleVectorStore:\n",
    "    def __init__(self):\n",
    "        self.embeddings = []\n",
    "        self.chunks = []\n",
    "    def add_chunks(self, chunks: List[Dict[str, Any]], embeddings: List[List[float]]):\n",
    "        self.chunks.extend(chunks)\n",
    "        self.embeddings.extend(embeddings)\n",
    "    def search(self, query_embedding: List[float], top_k: int = 3) -> List[Dict[str, Any]]:\n",
    "        from numpy import dot\n",
    "        from numpy.linalg import norm\n",
    "        import numpy as np\n",
    "        if not self.embeddings:\n",
    "            return []\n",
    "        emb_matrix = np.array(self.embeddings)\n",
    "        query_emb = np.array(query_embedding)\n",
    "        sims = emb_matrix @ query_emb / (norm(emb_matrix, axis=1) * norm(query_emb) + 1e-8)\n",
    "        idxs = sims.argsort()[::-1][:top_k]\n",
    "        return [self.chunks[i] for i in idxs]"
   ]
  },
  {
   "cell_type": "code",
   "execution_count": 9,
   "id": "b79cfc0c",
   "metadata": {},
   "outputs": [],
   "source": [
    "from typing import Dict, Any, List, Optional\n",
    "import os\n",
    "from openai import OpenAI\n",
    "\n",
    "class SimpleRAG:\n",
    "    def __init__(\n",
    "        self,\n",
    "        chunk_json_path: str,\n",
    "        model_path: str = None,\n",
    "        batch_size: int = 32,\n",
    "        use_rerank: bool = False,\n",
    "        candidate_k: int = 120,\n",
    "        final_k: int = 5,\n",
    "        reranker=None,  # expect your HybridReranker instance\n",
    "    ):\n",
    "        self.loader = PageChunkLoader(chunk_json_path)\n",
    "        self.embedding_model = EmbeddingModel(batch_size=batch_size)\n",
    "        self.vector_store = SimpleVectorStore()\n",
    "\n",
    "        # Rerank controls\n",
    "        self.use_rerank = use_rerank\n",
    "        self.candidate_k = candidate_k\n",
    "        self.final_k = final_k\n",
    "        self.reranker = reranker\n",
    "        \n",
    "        # NEW: control behavior & logging via env or code\n",
    "        self.lock_source = bool(int(os.getenv(\"LOCK_SOURCE\", \"0\")))         # force filename/page to top rerank\n",
    "        self.strict_rerank = bool(int(os.getenv(\"STRICT_RERANK\", \"0\")))     # raise if rerank fails\n",
    "        self.debug_telemetry = bool(int(os.getenv(\"DEBUG_RAG\", \"1\")))       # return debug info\n",
    "\n",
    "    def setup(self):\n",
    "        print(\"加载所有页chunk...\")\n",
    "        chunks = self.loader.load_chunks()\n",
    "        print(f\"共加载 {len(chunks)} 个chunk\")\n",
    "        print(\"生成嵌入...\")\n",
    "        embeddings = self.embedding_model.embed_texts([c[\"content\"] for c in chunks])\n",
    "        print(\"存储向量...\")\n",
    "        self.vector_store.add_chunks(chunks, embeddings)\n",
    "        print(\"RAG向量库构建完成！\")\n",
    "\n",
    "    def query(self, question: str, top_k: int = 3) -> Dict[str, Any]:\n",
    "        q_emb = self.embedding_model.embed_text(question)\n",
    "        results = self.vector_store.search(q_emb, top_k)\n",
    "        return {\"question\": question, \"chunks\": results}\n",
    "\n",
    "    def _build_context(self, items: List[Dict[str, Any]]) -> str:\n",
    "        return \"\\n\".join(\n",
    "            [\n",
    "                f\"[文件名]{c['metadata']['file_name']} [页码]{c['metadata']['page']}\\n{c['content']}\"\n",
    "                for c in items\n",
    "            ]\n",
    "        )\n",
    "\n",
    "    def generate_answer(self, question: str, top_k: int = 3) -> Dict[str, Any]:\n",
    "        \"\"\"\n",
    "        检索+大模型生成式回答，返回结构化结果\n",
    "        \"\"\"\n",
    "        qwen_api_key = os.getenv(\"LOCAL_API_KEY\")\n",
    "        qwen_base_url = os.getenv(\"LOCAL_BASE_URL\")\n",
    "        qwen_model = os.getenv(\"LOCAL_TEXT_MODEL\")\n",
    "        if not qwen_api_key or not qwen_base_url or not qwen_model:\n",
    "            raise ValueError(\"请在.env中配置LOCAL_API_KEY、LOCAL_BASE_URL、LOCAL_TEXT_MODEL\")\n",
    "\n",
    "        # ------ Retrieval (+ optional rerank) with telemetry ------\n",
    "        tele = {\"path\":\"\", \"rerank_ok\":False, \"rerank_attempts\":0, \"rerank_http\":None,\n",
    "                \"cand_n\":0, \"ranked_n\":0, \"page_vote_n\":0, \"final_n\":0}\n",
    "\n",
    "        q_emb = self.embedding_model.embed_text(question)\n",
    "        candidates = self.vector_store.search(q_emb, self.candidate_k)\n",
    "        tele[\"cand_n\"] = len(candidates)\n",
    "\n",
    "        if self.use_rerank and self.reranker is not None and candidates:\n",
    "            tele[\"path\"] = \"rerank\"\n",
    "            ranked, rr_meta = self.reranker.rerank(question, candidates, return_meta=True)  # << needs return_meta support\n",
    "            tele[\"rerank_http\"] = rr_meta.get(\"status\")\n",
    "            tele[\"rerank_attempts\"] = rr_meta.get(\"attempts\")\n",
    "            tele[\"ranked_n\"] = len(ranked)\n",
    "            tele[\"rerank_ok\"] = bool(ranked)\n",
    "\n",
    "            if not ranked:\n",
    "                if getattr(self, \"strict_rerank\", False):\n",
    "                    raise RuntimeError(f\"Rerank failed (status={tele['rerank_http']}) and STRICT_RERANK=1\")\n",
    "                chunks = candidates[: self.final_k]\n",
    "                tele[\"final_n\"] = len(chunks)\n",
    "            else:\n",
    "                # page vote + neighbor expansion (forced)\n",
    "                page_best = page_vote(ranked, top_m_pages=1, agg=\"max\")\n",
    "                tele[\"page_vote_n\"] = len(page_best)\n",
    "                try:\n",
    "                    page_best = expand_neighbors_on_page(page_best, radius=1, max_total=self.final_k)\n",
    "                except Exception:\n",
    "                    page_best = page_best[: self.final_k]\n",
    "                chunks = page_best if page_best else ranked[: self.final_k]\n",
    "                tele[\"final_n\"] = len(chunks)\n",
    "        else:\n",
    "            tele[\"path\"] = \"baseline\"\n",
    "            chunks = candidates[: top_k]\n",
    "            tele[\"final_n\"] = len(chunks)\n",
    "\n",
    "        # Early exit if we truly have nothing\n",
    "        if not chunks:\n",
    "            out = {\n",
    "                \"question\": question,\n",
    "                \"answer\": \"\",\n",
    "                \"filename\": \"\",\n",
    "                \"page\": \"\",\n",
    "                \"retrieval_chunks\": [],\n",
    "            }\n",
    "            if getattr(self, \"debug_telemetry\", True):\n",
    "                out[\"debug\"] = tele\n",
    "            return out\n",
    "\n",
    "        # Keep a record of top evidence before LLM (also used for LOCK_SOURCE)\n",
    "        top_file = chunks[0]['metadata']['file_name']\n",
    "        top_page = chunks[0]['metadata']['page']\n",
    "\n",
    "        # Build LLM context  << you were missing this\n",
    "        context = self._build_context(chunks)\n",
    "\n",
    "        # ------ LLM call ------\n",
    "        prompt = (\n",
    "            \"你是一名专业的金融分析助手，请根据以下检索到的内容回答用户问题。\\n\"\n",
    "            \"请严格按照如下JSON格式输出：\\n\"\n",
    "            '{\"answer\": \"你的简洁回答\", \"filename\": \"来源文件名\", \"page\": \"来源页码\"}\\n'\n",
    "            f\"检索内容：\\n{context}\\n\\n问题：{question}\\n\"\n",
    "            \"请确保输出内容为合法JSON字符串，不要输出多余内容。\"\n",
    "        )\n",
    "\n",
    "        client = OpenAI(api_key=qwen_api_key, base_url=qwen_base_url)\n",
    "        completion = client.chat.completions.create(\n",
    "            model=qwen_model,\n",
    "            messages=[\n",
    "                {\"role\": \"system\", \"content\": \"你是一名专业的金融分析助手。\"},\n",
    "                {\"role\": \"user\", \"content\": prompt},\n",
    "            ],\n",
    "            temperature=0.2,\n",
    "            max_tokens=1024,\n",
    "        )\n",
    "\n",
    "        import json as pyjson\n",
    "        from extract_json_array import extract_json_array\n",
    "\n",
    "        raw = completion.choices[0].message.content.strip()\n",
    "        json_str = extract_json_array(raw, mode=\"objects\")\n",
    "\n",
    "        if json_str:\n",
    "            try:\n",
    "                arr = pyjson.loads(json_str)\n",
    "                if isinstance(arr, list) and arr:\n",
    "                    j = arr[0]\n",
    "                    answer = j.get(\"answer\", \"\")\n",
    "                    filename = j.get(\"filename\", \"\")\n",
    "                    page = j.get(\"page\", \"\")\n",
    "                else:\n",
    "                    answer = raw\n",
    "                    filename = top_file\n",
    "                    page = top_page\n",
    "            except Exception:\n",
    "                answer = raw\n",
    "                filename = top_file\n",
    "                page = top_page\n",
    "        else:\n",
    "            answer = raw\n",
    "            filename = top_file\n",
    "            page = top_page\n",
    "\n",
    "        # Optional: normalize page & apply offset if needed (e.g., MinerU 0-based -> leaderboard 1-based)\n",
    "        PAGE_OFFSET = int(os.getenv(\"PAGE_OFFSET\", \"0\"))\n",
    "        try:\n",
    "            if page not in (\"\", None):\n",
    "                page = int(page) + PAGE_OFFSET\n",
    "        except Exception:\n",
    "            # if the model returns non-int, fall back to top evidence page + offset\n",
    "            try:\n",
    "                page = int(top_page) + PAGE_OFFSET\n",
    "            except Exception:\n",
    "                page = top_page  # last resort\n",
    "\n",
    "        # Hard-lock filename/page to top evidence if requested\n",
    "        model_file, model_page = filename, page\n",
    "        if getattr(self, \"lock_source\", False) and chunks:\n",
    "            filename, page = top_file, (int(top_page) + PAGE_OFFSET if str(top_page).isdigit() else top_page)\n",
    "\n",
    "        out = {\n",
    "            \"question\": question,\n",
    "            \"answer\": answer,\n",
    "            \"filename\": filename,\n",
    "            \"page\": page,\n",
    "            \"retrieval_chunks\": chunks,\n",
    "        }\n",
    "        if getattr(self, \"debug_telemetry\", True):\n",
    "            tele.update({\n",
    "                \"top_file\": top_file, \"top_page\": top_page,\n",
    "                \"model_file\": model_file, \"model_page\": model_page\n",
    "            })\n",
    "            out[\"debug\"] = tele\n",
    "        return out"
   ]
  },
  {
   "cell_type": "code",
   "execution_count": 10,
   "id": "04e17890",
   "metadata": {},
   "outputs": [
    {
     "name": "stdout",
     "output_type": "stream",
     "text": [
      "Notebook Dir: d:\\Datawhale\\Multimodal-RAG-Competitions\\notebook\n",
      "Project Root : d:\\Datawhale\\Multimodal-RAG-Competitions\n",
      "Train JSON   : d:\\Datawhale\\Multimodal-RAG-Competitions\\data\\train.json\n",
      "Chunks JSON  : d:\\Datawhale\\Multimodal-RAG-Competitions\\notebook\\all_pdf_windows_mineru.json\n"
     ]
    },
    {
     "name": "stderr",
     "output_type": "stream",
     "text": [
      "C:\\Users\\liuch\\AppData\\Local\\Packages\\PythonSoftwareFoundation.Python.3.11_qbz5n2kfra8p0\\LocalCache\\local-packages\\Python311\\site-packages\\tqdm\\auto.py:21: TqdmWarning: IProgress not found. Please update jupyter and ipywidgets. See https://ipywidgets.readthedocs.io/en/stable/user_install.html\n",
      "  from .autonotebook import tqdm as notebook_tqdm\n"
     ]
    }
   ],
   "source": [
    "# 1) Imports & Paths\n",
    "from pathlib import Path\n",
    "import os, json, random\n",
    "from tqdm.auto import tqdm\n",
    "import concurrent.futures\n",
    "import math\n",
    "\n",
    "# Notebook is in .../notebook; project root is parent\n",
    "NOTEBOOK_DIR = Path.cwd()\n",
    "PROJ_ROOT = NOTEBOOK_DIR.parent\n",
    "\n",
    "# Try common locations for train.json\n",
    "CANDIDATE_TRAIN = [\n",
    "    PROJ_ROOT / \"datas\" / \"train.json\",\n",
    "    PROJ_ROOT / \"data\" / \"train.json\",\n",
    "    NOTEBOOK_DIR / \"datas\" / \"train.json\",\n",
    "    NOTEBOOK_DIR / \"data\" / \"train.json\",\n",
    "]\n",
    "TRAIN_PATH = next((p for p in CANDIDATE_TRAIN if p.exists()), None)\n",
    "if TRAIN_PATH is None:\n",
    "    raise FileNotFoundError(f\"train.json not found in: {CANDIDATE_TRAIN}\")\n",
    "\n",
    "# Chunk JSON path (your earlier structure)\n",
    "CHUNK_JSON_PATH = PROJ_ROOT / \"notebook\" / \"all_pdf_windows_mineru.json\"\n",
    "\n",
    "# Outputs\n",
    "EVAL_RAW_PATH = PROJ_ROOT / \"eval_train_raw.json\"\n",
    "EVAL_SUMMARY_PATH = PROJ_ROOT / \"eval_train_scored.json\"\n",
    "\n",
    "print(\"Notebook Dir:\", NOTEBOOK_DIR)\n",
    "print(\"Project Root :\", PROJ_ROOT)\n",
    "print(\"Train JSON   :\", TRAIN_PATH)\n",
    "print(\"Chunks JSON  :\", CHUNK_JSON_PATH)\n",
    "\n",
    "# --- RAG behavior flags (your SimpleRAG reads these) ---\n",
    "env = os.environ.copy()\n",
    "env.update({\n",
    "    \"LOCK_SOURCE\":  \"1\",   # force filename/page to top evidence\n",
    "    \"STRICT_RERANK\":\"0\",   # set \"1\" to fail fast if rerank API hiccups\n",
    "    \"DEBUG_RAG\":    \"1\",   # include telemetry in outputs\n",
    "    \"PAGE_OFFSET\":  \"0\",   # MinerU 0-based -> leaderboard 1-based\n",
    "})\n"
   ]
  },
  {
   "cell_type": "code",
   "execution_count": 11,
   "id": "a7e5722d",
   "metadata": {},
   "outputs": [
    {
     "name": "stdout",
     "output_type": "stream",
     "text": [
      "加载所有页chunk...\n",
      "共加载 10053 个chunk\n",
      "生成嵌入...\n"
     ]
    },
    {
     "name": "stderr",
     "output_type": "stream",
     "text": [
      "Embedding: 100%|██████████| 315/315 [06:03<00:00,  1.15s/batch]"
     ]
    },
    {
     "name": "stdout",
     "output_type": "stream",
     "text": [
      "存储向量...\n",
      "RAG向量库构建完成！\n"
     ]
    },
    {
     "name": "stderr",
     "output_type": "stream",
     "text": [
      "\n"
     ]
    }
   ],
   "source": [
    "# Create your reranker beforehand\n",
    "# reranker = HybridReranker(model_name=\"BAAI/bge-reranker-base\")\n",
    "reranker = SiliconFlowReranker()\n",
    "rag = SimpleRAG(\n",
    "    chunk_json_path=CHUNK_JSON_PATH,  # or your page/block chunk file\n",
    "    use_rerank=True,\n",
    "    candidate_k=120,\n",
    "    final_k=5,\n",
    "    reranker=reranker,\n",
    ")\n",
    "rag.setup()\n"
   ]
  },
  {
   "cell_type": "code",
   "execution_count": 17,
   "id": "a7135184",
   "metadata": {},
   "outputs": [
    {
     "name": "stdout",
     "output_type": "stream",
     "text": [
      "Train size = 118 | Sample size = 59\n"
     ]
    },
    {
     "data": {
      "text/plain": [
       "[0, 3, 4, 5, 10, 11, 12, 13, 14, 15]"
      ]
     },
     "execution_count": 17,
     "metadata": {},
     "output_type": "execute_result"
    }
   ],
   "source": [
    "# 3) Load train and sample\n",
    "with open(TRAIN_PATH, \"r\", encoding=\"utf-8\") as f:\n",
    "    train_data = json.load(f)\n",
    "\n",
    "N = len(train_data)\n",
    "random.seed(42)\n",
    "\n",
    "sample_size = max(1, math.ceil(N * 0.50))\n",
    "all_idx = list(range(N))\n",
    "sample_idx = sorted(random.sample(all_idx, sample_size)) if sample_size < N else all_idx\n",
    "\n",
    "print(f\"Train size = {N} | Sample size = {len(sample_idx)}\")\n",
    "sample_idx[:10]\n"
   ]
  },
  {
   "cell_type": "code",
   "execution_count": 18,
   "id": "9e777c22",
   "metadata": {},
   "outputs": [],
   "source": [
    "# 4) Jaccard helper\n",
    "def jaccard_char(a: str, b: str) -> float:\n",
    "    a = (a or \"\").strip()\n",
    "    b = (b or \"\").strip()\n",
    "    if not a and not b:\n",
    "        return 1.0\n",
    "    set_a, set_b = set(a), set(b)\n",
    "    union = set_a | set_b\n",
    "    inter = set_a & set_b\n",
    "    return len(inter) / len(union) if union else 0.0\n"
   ]
  },
  {
   "cell_type": "code",
   "execution_count": 19,
   "id": "81be45bb",
   "metadata": {},
   "outputs": [
    {
     "name": "stdout",
     "output_type": "stream",
     "text": [
      "[1/59] 根据联邦制药（03933.HK）的公司发展历程，请简述其在2023年的重大产品临床进展。...\n",
      "[2/59] 联邦制药的UBT37034在超重/肥胖适应症方面取得了哪些临床前数据？...\n",
      "[3/59] 联邦制药的TUL01101片剂和软膏剂在特应性皮炎治疗中的疗效如何？...\n",
      "[4/59] 根据《联邦制药-港股公司研究报告-创新突破三靶点战略联姻诺和诺德-250712》文件内容，请问联邦制药在2024年的营业...\n",
      "[5/59] 极兔速递-W，根据图表和文字信息，请分析东南亚电商市场的发展潜力及其对极兔速递的影响。...\n",
      "[6/59] 极兔速递-W：2024年单位运输成本和分拣成本分别下降了多少百分比？...\n",
      "[7/59] 极兔速递-W的跨境物流业务未来发展方向如何？...\n",
      "[8/59] 根据华创证券对凌云股份的深度研究报告，请问该公司在2024年的主要产品收入占比是多少？...\n",
      "[9/59] 关于凌云股份（600480）的热冲压技术应用和发展前景，能否详细解释热冲压成型工艺与冷冲压成型工艺的主要区别？...\n",
      "[10/59] 根据华创证券对凌云股份（600480）的深度研究报告，请问该公司在2024年的热成型客户拓展情况如何？...\n"
     ]
    },
    {
     "name": "stderr",
     "output_type": "stream",
     "text": [
      "Infer on train sample:   0%|          | 0/59 [00:00<?, ?it/s]"
     ]
    },
    {
     "name": "stderr",
     "output_type": "stream",
     "text": [
      "Infer on train sample:   0%|          | 0/59 [00:32<?, ?it/s]"
     ]
    },
    {
     "name": "stdout",
     "output_type": "stream",
     "text": [
      "[11/59] 关于凌云股份（600480）的德国WAG业务板块及客户情况，请问具体有哪些主要客户？...\n"
     ]
    },
    {
     "name": "stderr",
     "output_type": "stream",
     "text": [
      "Infer on train sample:   0%|          | 0/59 [00:34<?, ?it/s]"
     ]
    },
    {
     "name": "stdout",
     "output_type": "stream",
     "text": [
      "[12/59] 关于凌云股份（600480）的热成型电池盒双轮驱动传感器加速布局，请问其在新能源汽车领域的具体布局情况如何？...\n"
     ]
    },
    {
     "name": "stderr",
     "output_type": "stream",
     "text": [
      "Infer on train sample:   0%|          | 0/59 [00:41<?, ?it/s]"
     ]
    },
    {
     "name": "stdout",
     "output_type": "stream",
     "text": [
      "[13/59] 根据凌云股份（600480）的深度研究报告，请问亚大集团在乘用车和商用车管路产品应用方面分别有哪些具体的产品？...\n"
     ]
    },
    {
     "name": "stderr",
     "output_type": "stream",
     "text": [
      "Infer on train sample:   0%|          | 0/59 [00:42<?, ?it/s]"
     ]
    },
    {
     "name": "stdout",
     "output_type": "stream",
     "text": [
      "[14/59] 关于凌云股份（600480）的力传感器业务，具体应用场景有哪些？...\n"
     ]
    },
    {
     "name": "stderr",
     "output_type": "stream",
     "text": [
      "Infer on train sample:   0%|          | 0/59 [00:48<?, ?it/s]"
     ]
    },
    {
     "name": "stdout",
     "output_type": "stream",
     "text": [
      "[15/59] 如何分析广联达在“两新一重”建设政策下的业绩表现？...\n"
     ]
    },
    {
     "name": "stderr",
     "output_type": "stream",
     "text": [
      "Infer on train sample:   0%|          | 0/59 [00:53<?, ?it/s]"
     ]
    },
    {
     "name": "stdout",
     "output_type": "stream",
     "text": [
      "[16/59] 如何分析广联达在数字化转型中的增长潜力？...\n"
     ]
    },
    {
     "name": "stderr",
     "output_type": "stream",
     "text": [
      "Infer on train sample:   0%|          | 0/59 [00:54<?, ?it/s]"
     ]
    },
    {
     "name": "stdout",
     "output_type": "stream",
     "text": [
      "[17/59] 广联达的数字施工业务在2020年的资金压力如何？与同行业其他企业相比，其资金压力有何特点？...\n"
     ]
    },
    {
     "name": "stderr",
     "output_type": "stream",
     "text": [
      "Infer on train sample:   0%|          | 0/59 [00:54<?, ?it/s]"
     ]
    },
    {
     "name": "stdout",
     "output_type": "stream",
     "text": [
      "[18/59] 广联达的施工总承包资质分为几个类别？每个类别分别对应哪些工程类型？...\n"
     ]
    },
    {
     "name": "stderr",
     "output_type": "stream",
     "text": [
      "Infer on train sample:   0%|          | 0/59 [01:10<?, ?it/s]"
     ]
    },
    {
     "name": "stdout",
     "output_type": "stream",
     "text": [
      "[19/59] 如何评估广联达在数字化转型过程中面临的挑战及其应对策略？...\n"
     ]
    },
    {
     "name": "stderr",
     "output_type": "stream",
     "text": [
      "Infer on train sample:   0%|          | 0/59 [01:10<?, ?it/s]"
     ]
    },
    {
     "name": "stdout",
     "output_type": "stream",
     "text": [
      "[20/59] 如何评估广联达在数字化转型过程中面临的安全事故和质量问题？...\n"
     ]
    },
    {
     "name": "stderr",
     "output_type": "stream",
     "text": [
      "Infer on train sample:   2%|▏         | 1/59 [01:13<1:10:54, 73.35s/it]"
     ]
    },
    {
     "name": "stdout",
     "output_type": "stream",
     "text": [
      "[21/59] 如何评估广联达在数字化转型中的竞争优势？...\n"
     ]
    },
    {
     "name": "stderr",
     "output_type": "stream",
     "text": [
      "Infer on train sample:   2%|▏         | 1/59 [01:14<1:10:54, 73.35s/it]"
     ]
    },
    {
     "name": "stdout",
     "output_type": "stream",
     "text": [
      "[22/59] 广联达：如何看待其数字造价业务的增长潜力？...\n"
     ]
    },
    {
     "name": "stderr",
     "output_type": "stream",
     "text": [
      "Infer on train sample:   2%|▏         | 1/59 [01:17<1:10:54, 73.35s/it]"
     ]
    },
    {
     "name": "stdout",
     "output_type": "stream",
     "text": [
      "[23/59] 广联达的数字造价业务未来成长空间是多少？...\n"
     ]
    },
    {
     "name": "stderr",
     "output_type": "stream",
     "text": [
      "Infer on train sample:   2%|▏         | 1/59 [01:28<1:10:54, 73.35s/it]"
     ]
    },
    {
     "name": "stdout",
     "output_type": "stream",
     "text": [
      "[24/59] 如何分析广联达在数字施工业务上的增长潜力？...\n"
     ]
    },
    {
     "name": "stderr",
     "output_type": "stream",
     "text": [
      "Infer on train sample:   2%|▏         | 1/59 [01:29<1:10:54, 73.35s/it]"
     ]
    },
    {
     "name": "stdout",
     "output_type": "stream",
     "text": [
      "[25/59] 如何分析广联达云造价业务的营收增长趋势及其与房屋新开工面积增速的关系？...\n"
     ]
    },
    {
     "name": "stderr",
     "output_type": "stream",
     "text": [
      "Infer on train sample:   2%|▏         | 1/59 [01:30<1:10:54, 73.35s/it]"
     ]
    },
    {
     "name": "stdout",
     "output_type": "stream",
     "text": [
      "[26/59] 广联达：根据图表130和131，预测2025年我国电子招标采购交易规模将达到多少亿元？...\n"
     ]
    },
    {
     "name": "stderr",
     "output_type": "stream",
     "text": [
      "Infer on train sample:   2%|▏         | 1/59 [01:32<1:10:54, 73.35s/it]"
     ]
    },
    {
     "name": "stdout",
     "output_type": "stream",
     "text": [
      "[27/59] 关于广联达的CAD快速看图工具及其七大功能价值，请问这些功能如何具体提升用户的工作效率？...\n"
     ]
    },
    {
     "name": "stderr",
     "output_type": "stream",
     "text": [
      "Infer on train sample:   2%|▏         | 1/59 [01:34<1:10:54, 73.35s/it]"
     ]
    },
    {
     "name": "stdout",
     "output_type": "stream",
     "text": [
      "[28/59] 如何评价广联达在搅拌站材料核算系统上的核心功能及其工作流程？...\n"
     ]
    },
    {
     "name": "stderr",
     "output_type": "stream",
     "text": [
      "Infer on train sample:  14%|█▎        | 8/59 [01:35<08:09,  9.59s/it]  "
     ]
    },
    {
     "name": "stdout",
     "output_type": "stream",
     "text": [
      "[29/59] 如何评估广联达在2019年至2021年上半年期间，施工业务的客户覆盖率和渗透率的变化趋势？...\n"
     ]
    },
    {
     "name": "stderr",
     "output_type": "stream",
     "text": [
      "Infer on train sample:  14%|█▎        | 8/59 [01:42<08:09,  9.59s/it]"
     ]
    },
    {
     "name": "stdout",
     "output_type": "stream",
     "text": [
      "[30/59] 如何评估广联达在数字化转型中的竞争优势及其未来增长潜力？...\n"
     ]
    },
    {
     "name": "stderr",
     "output_type": "stream",
     "text": [
      "Infer on train sample:  32%|███▏      | 19/59 [01:43<02:25,  3.63s/it]"
     ]
    },
    {
     "name": "stdout",
     "output_type": "stream",
     "text": [
      "[31/59] 广联达：根据图表217和218，您能否分析一下国家在支持工业软件和建筑业软件系统自主可控方面的政策趋势？...\n",
      "[32/59] 如何分析广联达（002410.SZ）在2021年的PS估值水平及其与可比公司的差异？...\n"
     ]
    },
    {
     "name": "stderr",
     "output_type": "stream",
     "text": [
      "Infer on train sample:  36%|███▌      | 21/59 [01:45<02:02,  3.22s/it]"
     ]
    },
    {
     "name": "stdout",
     "output_type": "stream",
     "text": [
      "[33/59] 千味央厨的股价走势如何？...\n"
     ]
    },
    {
     "name": "stderr",
     "output_type": "stream",
     "text": [
      "Infer on train sample:  36%|███▌      | 21/59 [01:53<02:02,  3.22s/it]"
     ]
    },
    {
     "name": "stdout",
     "output_type": "stream",
     "text": [
      "[34/59] 千味央厨的速冻米面制品产品结构与日本相比有何差异？...\n"
     ]
    },
    {
     "name": "stderr",
     "output_type": "stream",
     "text": [
      "Infer on train sample:  41%|████      | 24/59 [02:00<02:07,  3.64s/it]"
     ]
    },
    {
     "name": "stdout",
     "output_type": "stream",
     "text": [
      "[35/59] 千味央厨 (001215 CH) 的速冻米面业务在餐饮端的增长潜力如何？...\n"
     ]
    },
    {
     "name": "stderr",
     "output_type": "stream",
     "text": [
      "Infer on train sample:  42%|████▏     | 25/59 [02:04<02:06,  3.72s/it]"
     ]
    },
    {
     "name": "stdout",
     "output_type": "stream",
     "text": [
      "[36/59] 根据华泰证券发布的《千味央厨-千寻百味乘势而上》报告，结合图表23和24的数据，请问2025年国内餐饮端速冻米面市场的潜...\n"
     ]
    },
    {
     "name": "stderr",
     "output_type": "stream",
     "text": [
      "Infer on train sample:  46%|████▌     | 27/59 [02:06<01:39,  3.11s/it]"
     ]
    },
    {
     "name": "stdout",
     "output_type": "stream",
     "text": [
      "[37/59] 千味央厨的供应链管理体系如何保障产品质量和供应稳定性？...\n"
     ]
    },
    {
     "name": "stderr",
     "output_type": "stream",
     "text": [
      "Infer on train sample:  47%|████▋     | 28/59 [02:07<01:26,  2.80s/it]"
     ]
    },
    {
     "name": "stdout",
     "output_type": "stream",
     "text": [
      "[38/59] 千味央厨的模拟后厨实验室是如何具体运作的？...\n"
     ]
    },
    {
     "name": "stderr",
     "output_type": "stream",
     "text": [
      "Infer on train sample:  49%|████▉     | 29/59 [02:10<01:23,  2.77s/it]"
     ]
    },
    {
     "name": "stdout",
     "output_type": "stream",
     "text": [
      "[39/59] 千味央厨的餐饮大客户经营数据在2022年第三季度有何变化？...\n"
     ]
    },
    {
     "name": "stderr",
     "output_type": "stream",
     "text": [
      "Infer on train sample:  51%|█████     | 30/59 [02:11<01:10,  2.44s/it]"
     ]
    },
    {
     "name": "stdout",
     "output_type": "stream",
     "text": [
      "[40/59] 千味央厨的三大新品牌分别针对哪些消费群体？各自的产品特点是什么？...\n"
     ]
    },
    {
     "name": "stderr",
     "output_type": "stream",
     "text": [
      "Infer on train sample:  53%|█████▎    | 31/59 [02:14<01:12,  2.59s/it]"
     ]
    },
    {
     "name": "stdout",
     "output_type": "stream",
     "text": [
      "[41/59] 千味央厨公司在2020年的毛利率受原材料价格波动影响如何？...\n"
     ]
    },
    {
     "name": "stderr",
     "output_type": "stream",
     "text": [
      "Infer on train sample:  53%|█████▎    | 31/59 [02:25<01:12,  2.59s/it]"
     ]
    },
    {
     "name": "stdout",
     "output_type": "stream",
     "text": [
      "[42/59] 千味央厨2020年的原材料储备占比存货显著提升的具体情况如何？...\n"
     ]
    },
    {
     "name": "stderr",
     "output_type": "stream",
     "text": [
      "Infer on train sample:  54%|█████▍    | 32/59 [02:28<02:21,  5.25s/it]"
     ]
    },
    {
     "name": "stdout",
     "output_type": "stream",
     "text": [
      "[43/59] 针对千味央厨的募投项目，其总部基地及研发中心建设的具体投资内容和占比是多少？...\n"
     ]
    },
    {
     "name": "stderr",
     "output_type": "stream",
     "text": [
      "Infer on train sample:  58%|█████▊    | 34/59 [02:28<01:20,  3.22s/it]"
     ]
    },
    {
     "name": "stdout",
     "output_type": "stream",
     "text": [
      "[44/59] 根据千味央厨的招股书，其2021年的收入预测是多少？...\n"
     ]
    },
    {
     "name": "stderr",
     "output_type": "stream",
     "text": [
      "Infer on train sample:  58%|█████▊    | 34/59 [02:35<01:20,  3.22s/it]"
     ]
    },
    {
     "name": "stdout",
     "output_type": "stream",
     "text": [
      "[45/59] 千味央厨：使用OEM代工模式的优势体现在哪些方面？...\n",
      "[46/59] 关于伊利股份的历史发展和市场竞争，请问在2005年至2013年间，伊利如何通过创新产品和营销策略实现营收突破100亿大关...\n"
     ]
    },
    {
     "name": "stderr",
     "output_type": "stream",
     "text": [
      "Infer on train sample:  58%|█████▊    | 34/59 [02:37<01:20,  3.22s/it]"
     ]
    },
    {
     "name": "stdout",
     "output_type": "stream",
     "text": [
      "[47/59] 根据伊利股份的公司深度报告《王者荣耀行稳致远》，请问伊利在2005年后通过哪些营销策略实现了后来居上？...\n"
     ]
    },
    {
     "name": "stderr",
     "output_type": "stream",
     "text": [
      "Infer on train sample:  59%|█████▉    | 35/59 [02:38<01:51,  4.66s/it]"
     ]
    },
    {
     "name": "stdout",
     "output_type": "stream",
     "text": [
      "[48/59] 根据《伊利股份-公司深度报告》中的内容，请分析影响奶粉行业规模的主要因素，并解释为什么我国奶粉单价高于多个发达国家？...\n"
     ]
    },
    {
     "name": "stderr",
     "output_type": "stream",
     "text": [
      "Infer on train sample:  59%|█████▉    | 35/59 [02:39<01:51,  4.66s/it]"
     ]
    },
    {
     "name": "stdout",
     "output_type": "stream",
     "text": [
      "[49/59] 根据《伊利股份-公司深度报告》中的内容，请问伊利在母乳研究方面有哪些重要成就？...\n"
     ]
    },
    {
     "name": "stderr",
     "output_type": "stream",
     "text": [
      "Infer on train sample:  59%|█████▉    | 35/59 [02:49<01:51,  4.66s/it]"
     ]
    },
    {
     "name": "stdout",
     "output_type": "stream",
     "text": [
      "[50/59] 伊利股份的奶酪业务发展现状如何？...\n"
     ]
    },
    {
     "name": "stderr",
     "output_type": "stream",
     "text": [
      "Infer on train sample:  59%|█████▉    | 35/59 [02:52<01:51,  4.66s/it]"
     ]
    },
    {
     "name": "stdout",
     "output_type": "stream",
     "text": [
      "[51/59] 广联达（002410）的数字建筑平台战略如何实现软硬一体化？...\n"
     ]
    },
    {
     "name": "stderr",
     "output_type": "stream",
     "text": [
      "Infer on train sample:  59%|█████▉    | 35/59 [02:54<01:51,  4.66s/it]"
     ]
    },
    {
     "name": "stdout",
     "output_type": "stream",
     "text": [
      "[52/59] 广联达（002410）的施工数字化转型一站式服务如何具体实现？...\n"
     ]
    },
    {
     "name": "stderr",
     "output_type": "stream",
     "text": [
      "Infer on train sample:  59%|█████▉    | 35/59 [03:04<01:51,  4.66s/it]"
     ]
    },
    {
     "name": "stdout",
     "output_type": "stream",
     "text": [
      "[53/59] 广联达（002410）在2015年至2018年间，通过哪些具体措施推动了“数字企业+智慧工地+BIM建造”的发展？...\n"
     ]
    },
    {
     "name": "stderr",
     "output_type": "stream",
     "text": [
      "Infer on train sample:  59%|█████▉    | 35/59 [03:07<01:51,  4.66s/it]"
     ]
    },
    {
     "name": "stdout",
     "output_type": "stream",
     "text": [
      "[54/59] 广联达的数字企业业务在2019年至2021年间发生了哪些变化？...\n"
     ]
    },
    {
     "name": "stderr",
     "output_type": "stream",
     "text": [
      "Infer on train sample:  61%|██████    | 36/59 [03:12<04:30, 11.77s/it]"
     ]
    },
    {
     "name": "stdout",
     "output_type": "stream",
     "text": [
      "[55/59] 广联达（002410）：BIM5D+智慧工地平台在施工业务中的应用现状如何？...\n",
      "[56/59] 广联达在数字建筑一体化领域采取了哪些具体的落地打法？...\n"
     ]
    },
    {
     "name": "stderr",
     "output_type": "stream",
     "text": [
      "Infer on train sample:  61%|██████    | 36/59 [03:16<04:30, 11.77s/it]"
     ]
    },
    {
     "name": "stdout",
     "output_type": "stream",
     "text": [
      "[57/59] 广联达（002410）在2021年云收入占比达到多少？...\n"
     ]
    },
    {
     "name": "stderr",
     "output_type": "stream",
     "text": [
      "Infer on train sample:  61%|██████    | 36/59 [03:18<04:30, 11.77s/it]"
     ]
    },
    {
     "name": "stdout",
     "output_type": "stream",
     "text": [
      "[58/59] 广联达（002410）的数字设计业务在2021年下半年将如何推进？...\n"
     ]
    },
    {
     "name": "stderr",
     "output_type": "stream",
     "text": [
      "Infer on train sample:  61%|██████    | 36/59 [03:19<04:30, 11.77s/it]"
     ]
    },
    {
     "name": "stdout",
     "output_type": "stream",
     "text": [
      "[59/59] 广联达（002410）在数字建筑一体化方面有哪些具体的产品定位和解决方案？...\n"
     ]
    },
    {
     "name": "stderr",
     "output_type": "stream",
     "text": [
      "Infer on train sample: 100%|██████████| 59/59 [03:55<00:00,  4.00s/it]"
     ]
    },
    {
     "name": "stdout",
     "output_type": "stream",
     "text": [
      "Saved raw predictions to: d:\\Datawhale\\Multimodal-RAG-Competitions\\eval_train_raw.json\n"
     ]
    },
    {
     "name": "stderr",
     "output_type": "stream",
     "text": [
      "\n"
     ]
    }
   ],
   "source": [
    "# 5) Inference\n",
    "def run_one(idx):\n",
    "    item = train_data[idx]\n",
    "    q = item.get(\"question\", \"\")\n",
    "    tqdm.write(f\"[{sample_idx.index(idx)+1}/{len(sample_idx)}] {q[:60]}...\")\n",
    "    pred = rag.generate_answer(q, top_k=5)\n",
    "    return idx, pred\n",
    "\n",
    "results = []\n",
    "with concurrent.futures.ThreadPoolExecutor(max_workers=10) as ex:\n",
    "    for out in tqdm(ex.map(run_one, sample_idx), total=len(sample_idx), desc=\"Infer on train sample\"):\n",
    "        results.append(out)\n",
    "\n",
    "# Save raw (idx, pred) for debugging\n",
    "with open(EVAL_RAW_PATH, \"w\", encoding=\"utf-8\") as f:\n",
    "    json.dump(results, f, ensure_ascii=False, indent=2)\n",
    "print(f\"Saved raw predictions to: {EVAL_RAW_PATH}\")\n"
   ]
  },
  {
   "cell_type": "markdown",
   "id": "6a26f5f2",
   "metadata": {},
   "source": [
    "## 6) Scoring vs Ground Truth\n",
    "Score per item:\n",
    "- page_match: 1 if exact page equals, else 0 (×0.25)\n",
    "- filename_match: 1 if exact filename equals, else 0 (×0.25)\n",
    "- answer_jaccard: char Jaccard (×0.5)\n"
   ]
  },
  {
   "cell_type": "code",
   "execution_count": 20,
   "id": "1de5ca5d",
   "metadata": {},
   "outputs": [
    {
     "name": "stdout",
     "output_type": "stream",
     "text": [
      "Saved scored results to: d:\\Datawhale\\Multimodal-RAG-Competitions\\eval_train_scored.json\n",
      "max score: 0.8658536585365854\n",
      "Mean score: 0.3969\n",
      "min score: 0.09\n",
      "Mean Jaccard: 0.3362\n",
      "Filename exact@1: 0.5085\n",
      "Page exact@1: 0.4068\n"
     ]
    }
   ],
   "source": [
    "# 6) Score predictions\n",
    "idx2pred = {idx: pred for idx, pred in results}\n",
    "\n",
    "scored_rows = []\n",
    "for idx in sample_idx:\n",
    "    gt = train_data[idx]\n",
    "    pred = idx2pred.get(idx, {})\n",
    "\n",
    "    gt_q = gt.get(\"question\", \"\")\n",
    "    gt_a = gt.get(\"answer\", \"\")\n",
    "    gt_f = gt.get(\"filename\", \"\")\n",
    "    gt_p = gt.get(\"page\", \"\")\n",
    "\n",
    "    pr_a = pred.get(\"answer\", \"\")\n",
    "    pr_f = pred.get(\"filename\", \"\")\n",
    "    pr_p = pred.get(\"page\", \"\")\n",
    "\n",
    "    page_match = 1.0 if str(pr_p) == str(gt_p) else 0.0\n",
    "    filename_match = 1.0 if str(pr_f) == str(gt_f) else 0.0\n",
    "    answer_sim = jaccard_char(str(pr_a), str(gt_a))\n",
    "\n",
    "    score = 0.25 * page_match + 0.25 * filename_match + 0.5 * answer_sim\n",
    "\n",
    "    scored_rows.append({\n",
    "        \"idx\": idx,\n",
    "        \"question\": gt_q,\n",
    "        \"gt_answer\": gt_a,\n",
    "        \"pr_answer\": pr_a,\n",
    "        \"gt_filename\": gt_f,\n",
    "        \"pr_filename\": pr_f,\n",
    "        \"gt_page\": gt_p,\n",
    "        \"pr_page\": pr_p,\n",
    "        \"page_match\": page_match,\n",
    "        \"filename_match\": filename_match,\n",
    "        \"answer_jaccard\": answer_sim,\n",
    "        \"score\": score,\n",
    "    })\n",
    "\n",
    "# Sort by score ascending to inspect weak cases first\n",
    "scored_rows_sorted = sorted(scored_rows, key=lambda x: x[\"score\"])\n",
    "\n",
    "with open(EVAL_SUMMARY_PATH, \"w\", encoding=\"utf-8\") as f:\n",
    "    json.dump(scored_rows_sorted, f, ensure_ascii=False, indent=2)\n",
    "\n",
    "print(f\"Saved scored results to: {EVAL_SUMMARY_PATH}\")\n",
    "print(f\"max score: {max(r['score'] for r in scored_rows_sorted)}\")\n",
    "print(f\"Mean score: {sum(r['score'] for r in scored_rows_sorted)/len(scored_rows_sorted):.4f}\")\n",
    "print(f\"min score: {min(r['score'] for r in scored_rows_sorted) }\")\n",
    "print(f\"Mean Jaccard: {sum(r['answer_jaccard'] for r in scored_rows_sorted)/len(scored_rows_sorted):.4f}\")\n",
    "print(f\"Filename exact@1: {sum(r['filename_match'] for r in scored_rows_sorted)/len(scored_rows_sorted):.4f}\")\n",
    "print(f\"Page exact@1: {sum(r['page_match'] for r in scored_rows_sorted)/len(scored_rows_sorted):.4f}\")\n"
   ]
  },
  {
   "cell_type": "markdown",
   "id": "7b900b85",
   "metadata": {},
   "source": [
    "Saved scored results to: d:\\Datawhale\\Multimodal-RAG-Competitions\\eval_train_scored.json  \n",
    "max score: 0.5576923076923077  \n",
    "Mean score: 0.3201  \n",
    "min score: 0.08403361344537816  \n",
    "Mean Jaccard: 0.3068  \n",
    "Filename exact@1: 0.5833  \n",
    "Page exact@1: 0.0833  "
   ]
  },
  {
   "cell_type": "markdown",
   "id": "4e73f091",
   "metadata": {},
   "source": [
    "Mineru + BN25\n",
    "max score: 0.4962686567164179  \n",
    "Mean score: 0.3231  \n",
    "min score: 0.09130434782608696  \n",
    "Mean Jaccard: 0.3128\n",
    "Filename exact@1: 0.5833  \n",
    "Page exact@1: 0.0833  "
   ]
  },
  {
   "cell_type": "markdown",
   "id": "d9995b2d",
   "metadata": {},
   "source": [
    "Note: With BM25 rerank :\n",
    "max score: 0.5732323232323233  \n",
    "Mean score: 0.2638   \n",
    "min score: 0.09668508287292818  \n",
    "Mean Jaccard: 0.3193  \n",
    "Filename exact@1: 0.4167  \n",
    "Page exact@1: 0.0000  "
   ]
  },
  {
   "cell_type": "code",
   "execution_count": 21,
   "id": "e7fda451",
   "metadata": {},
   "outputs": [
    {
     "name": "stdout",
     "output_type": "stream",
     "text": [
      "— Worst cases —\n",
      "\n",
      "Score: 0.09\n",
      "Q: 如何评估广联达在数字化转型过程中面临的挑战及其应对策略？\n",
      "GT: 广联达在数字化转型过程中面临的挑战主要包括以下几个方面：\n",
      "\n",
      "1. **劳动力问题**：\n",
      "   - 工人的体力劳动量较大，施工工作环境较苦，收入较低，导致施工人员流动性大。\n",
      "   - 老龄化现象严重，30岁及以上比例的工人占比逐年提升，接近8成。\n",
      "   - 受教育程度低，建筑施工以简单重复性工作为主，难以提供良好的职业上升通道。\n",
      "\n",
      "2. **项目变化频繁**：\n",
      "   - 建筑项目的设计、预算和时间表可能随时发生变化，影响工期与成本。\n",
      "   - 变\n",
      "PR: 广联达在数字化转型中面临地区云转型进度不一、施工与国际业务扩展等挑战，通过加速云化转型、产品持续迭代及构建产业生态等策略应对。\n",
      "GT file/page: 广联达-再谈广联达当前时点下如何看待其三条增长曲线-220217131页.pdf 32\n",
      "PR file/page: 广联达-二次创业关键节点短中长期看好公司价值-21102062页.pdf 9\n",
      "\n",
      "Score: 0.09259259259259259\n",
      "Q: 千味央厨的供应链管理体系如何保障产品质量和供应稳定性？\n",
      "GT: 千味央厨的供应链管理体系通过以下几个方面保障产品质量和供应稳定性：\n",
      "\n",
      "1. **供应商审核**：\n",
      "   - **风险评估**：进行资质审查，确保供应商具备相应的资质。\n",
      "   - **工厂准入审核**：对供应商的工厂进行审核，确保其生产环境符合食品安全标准。\n",
      "   - **定期审核**：对供应商进行食品安全和飞行检查，确保其产品质量稳定。\n",
      "\n",
      "2. **供应商绩效评估**：\n",
      "   - **优先新品权**：优先上新产品，确保产品的新鲜度和创新性。\n",
      "   - **优先份额权**：T1级供应商具有优势份额，\n",
      "PR: 千味央厨通过严格质控措施保障运输品质，并采用分仓及第三方物流体系提升供应稳定性。\n",
      "GT file/page: 千味央厨-千寻百味乘势而上-22122726页.pdf 13\n",
      "PR file/page: 千味央厨-稳定成长兼具千味奋进正当时-22051927页.pdf 19\n",
      "\n",
      "Score: 0.1016949152542373\n",
      "Q: 如何分析广联达在数字化转型中的增长潜力？\n",
      "GT: 广联达在数字化转型中的增长潜力可以从以下几个方面进行分析：\n",
      "\n",
      "1. **市场规模**：\n",
      "   - 根据报告，中国建筑业总产值2020年为26.4万亿元，占GDP比重约为26%。这表明建筑业市场规模庞大，数字化转型的空间巨大。\n",
      "\n",
      "2. **政策支持**：\n",
      "   - 政府政策支持建筑业数字化转型，如推动清单计价模式，有助于形成良好的市场竞争机制，促进企业提升技术水平和管理能力。\n",
      "\n",
      "3. **技术应用**：\n",
      "   - 报告指出，随着移动、云、物联网、BIM等技术的\n",
      "PR: 广联达数字化转型增长潜力分析需关注造价业务云转型的顺利推进及业绩增长、施工业务在'八三'战略下的产能释放、数字设计业务突破性进展对产业链上游的完善作用，以及创新与海外业务在供应链金融、教育、数字城市等领域的布局深化和国际拓展成效。\n",
      "GT file/page: 广联达-再谈广联达当前时点下如何看待其三条增长曲线-220217131页.pdf 26\n",
      "PR file/page: 广联达-二次创业关键节点短中长期看好公司价值-21102062页.pdf 55\n",
      "\n",
      "Score: 0.10236220472440945\n",
      "Q: 伊利股份的奶酪业务发展现状如何？\n",
      "GT: 伊利股份的奶酪业务发展现状如下：\n",
      "\n",
      "1. **成立时间**：\n",
      "   - 伊利开始生产奶酪最早可以追溯到2010年。\n",
      "   - 2018年，伊利正式成立了奶酪事业部，专门运作奶酪业务。\n",
      "\n",
      "2. **产品布局**：\n",
      "   - 伊利和妙可蓝多当前均以低温儿童奶酪棒作为主要产品，并且覆盖了马苏里拉奶酪、芝士片等周边产品。\n",
      "   - 两家公司在2021年下半年先后推出了常温儿童奶酪棒，考虑到常温奶酪棒无需\n",
      "PR: 伊利股份奶酪业务发展迅速，2020年上半年收入超2亿，产品线从儿童奶酪棒扩展至成人奶酪，产能和渠道扩张推动市场教育，预计2020年全年收入可达4-5亿。\n",
      "GT file/page: 伊利股份-公司深度报告王者荣耀行稳致远-22021459页.pdf 45\n",
      "PR file/page: 伊利股份多元优势铸造乳企龙头未来战略目标平稳推进42页.pdf 29\n",
      "\n",
      "Score: 0.10655737704918032\n",
      "Q: 如何分析广联达在“两新一重”建设政策下的业绩表现？\n",
      "GT: 为了分析广联达在“两新一重”建设政策下的业绩表现，我们可以参考以下几点：\n",
      "\n",
      "1. **政策背景**：\n",
      "   - “两新一重”建设政策包括加强新型基础设施建设、新型城镇化建设和交通、水利等重大工程建设。\n",
      "   - 这些政策旨在促进消费、惠民生、调结构、增后劲。\n",
      "\n",
      "2. **政策具体内容**：\n",
      "   - **新型基础设施建设**：发展新一代信息网络，拓展5G应用，建设数据中心，增加充电桩、换电站等设施，推广新能源汽车，激发新消费需求、助力产业升级。\n",
      "   - **新型城镇化\n",
      "PR: 广联达在'两新一重'政策下业绩表现可关注云转型带来的商业模式升级、销售费用率下降及现金流改善，同时受益于造价业务市场容量提升、智慧施工产品渗透率增加及设计软件拓展。公司PS估值低于历史水平，预计2022-2024年净利润持续增长，业绩与估值双向提升潜力显著。\n",
      "GT file/page: 广联达-再谈广联达当前时点下如何看待其三条增长曲线-220217131页.pdf 24\n",
      "PR file/page: 广联达-深度复盘系列三乘云而上再谱华章历史行情复盘-22060933页.pdf 25\n",
      "\n",
      "Score: 0.10666666666666667\n",
      "Q: 广联达：如何看待其数字造价业务的增长潜力？\n",
      "GT: 广联达数字造价业务的增长潜力可以从以下几个方面来分析：\n",
      "\n",
      "1. **云转型**：广联达的造价业务已经开始分区域、分产品进行云化，并在2021年完成了云转型的第一阶段。云转型使得造价业务的成长驱动从增量走向存量，降低了周期性，凸显了成长性。\n",
      "\n",
      "2. **收入规模**：2020年造价返还收入达到了34亿元，2017年至2020年的复合年增长率（CAGR）为24.3%。这表明广联达在数字造价业务上的收入规模持续增长\n",
      "PR: 广联达数字造价业务增长潜力主要来自政策驱动和市场需求增长，预计在特定渗透率条件下未来每年营收可达30亿元，同时受益于新版《建设工程工程量清单计价标准》实施带来的数据类产品需求提升。\n",
      "GT file/page: 广联达-再谈广联达当前时点下如何看待其三条增长曲线-220217131页.pdf 51\n",
      "PR file/page: 广联达-公司深度报告走在修复的道路上-25062521页.pdf 1\n",
      "\n",
      "— Best cases —\n",
      "\n",
      "Score: 0.7566371681415929\n",
      "Q: 千味央厨的速冻米面制品产品结构与日本相比有何差异？\n",
      "GT: 根据图片中的图表和文字内容，可以总结出以下几点关于千味央厨的速冻米面制品产品结构与日本的差异：\n",
      "\n",
      "1. **产品结构丰富度**：\n",
      "   - 日本速冻产品结构丰富度较高，2021年前10大畅销单品涵盖了饺子、可乐饼、炒饭、罐头、乌冬面等多种不同类型的产品。\n",
      "   - 相比之下，国内速冻米面市场产品结构相对单一，主要集中在汤圆、水饺、粽子等传统产品上。\n",
      "\n",
      "2. **销售金额**：\n",
      "   - 日本前10\n",
      "PR: 千味央厨的速冻米面制品产品结构相对单一，而日本市场品类丰富度较高，涵盖多种不同类型的产品，如饺子、可乐饼、炒饭等，且日本前10大畅销单品销售金额均在9亿人民币以上。\n",
      "GT file/page: 千味央厨-千寻百味乘势而上-22122726页.pdf 7\n",
      "PR file/page: 千味央厨-千寻百味乘势而上-22122726页.pdf 7\n",
      "\n",
      "Score: 0.8020833333333333\n",
      "Q: 极兔速递-W：2024年单位运输成本和分拣成本分别下降了多少百分比？\n",
      "GT: 根据图片中的图表和文字内容：\n",
      "\n",
      "- 图41显示，2024年极兔单位运输成本同比下降了11.8%。\n",
      "- 图42显示，2024年极兔单位分拣成本同比下降了44.4%。\n",
      "\n",
      "因此，2024年极兔速递-W的单位运输成本下降了11.8%，单位分拣成本下降了44.4%。\n",
      "PR: 2024年极兔速递-W的单位运输成本同比下降11.8%，单位分拣成本同比下降44.4%。\n",
      "GT file/page: 极兔速递W-港股公司研究报告-系列一东南亚十年磨砺终成锋产业经营双拐点-25070834页.pdf 21\n",
      "PR file/page: 极兔速递W-港股公司研究报告-系列一东南亚十年磨砺终成锋产业经营双拐点-25070834页.pdf 21\n",
      "\n",
      "Score: 0.8051948051948052\n",
      "Q: 广联达的施工总承包资质分为几个类别？每个类别分别对应哪些工程类型？\n",
      "GT: 施工总承包资质分为四个类别，分别是：\n",
      "\n",
      "1. 特级\n",
      "2. 一级\n",
      "3. 二级\n",
      "4. 三级\n",
      "\n",
      "每个类别对应的工程类型如下：\n",
      "\n",
      "- 特级：建筑工程、公路工程、铁路工程、港口与航道工程、水利水电工程、电力工程、矿山工程、冶金工程、石油化工工程、市政公用工程、通信工程、机电工程。\n",
      "- 一级：建筑工程、公路工程、铁路工程、港口与航道工程、水利水电工程、电力工程、矿山工程、冶金工程、石油化工工程、市政公用工程、通信工程、机电工程。\n",
      "- 二级：\n",
      "PR: 施工总承包资质分为四个类别：特级、一级、二级、三级。对应工程类型包括建筑工程、公路工程、铁路工程、港口与航道工程、水电工程、电力工程、矿山工程、冶金、机械、核工业、电子通信广电、轻纺等12大行业。\n",
      "GT file/page: 广联达-再谈广联达当前时点下如何看待其三条增长曲线-220217131页.pdf 29\n",
      "PR file/page: 广联达-再谈广联达当前时点下如何看待其三条增长曲线-220217131页.pdf 29\n",
      "\n",
      "Score: 0.8168316831683169\n",
      "Q: 联邦制药的UBT37034在超重/肥胖适应症方面取得了哪些临床前数据？\n",
      "GT: 根据图片中的文字内容，联邦制药的UBT37034在超重/肥胖适应症方面的临床前数据如下：\n",
      "\n",
      "1. UBT37034在饮食诱导肥胖大鼠（DIO Rats）上的临床前数据表明，21天给药后，UBT37034联用替尔泊肽减重13.6%。\n",
      "\n",
      "2. 相比之下，Petrelintide联用替尔泊肽减重13.6%（-9.38%），Cagrilintide联用替尔泊肽减\n",
      "PR: 联邦制药的UBT37034在饮食诱导肥胖大鼠（DIO Rats）临床前试验中，21天给药后联用替尔泊肽实现13.6%减重，优于Petrelintide（-9.38%）、Cagrilintide（-10.89%）及替尔泊肽单药（-3.02%）效果。\n",
      "GT file/page: 联邦制药-港股公司研究报告-创新突破三靶点战略联姻诺和诺德-25071225页.pdf 11\n",
      "PR file/page: 联邦制药-港股公司研究报告-创新突破三靶点战略联姻诺和诺德-25071225页.pdf 11\n",
      "\n",
      "Score: 0.8292682926829269\n",
      "Q: 联邦制药的TUL01101片剂和软膏剂在特应性皮炎治疗中的疗效如何？\n",
      "GT: 联邦制药的TUL01101片剂和软膏剂在特应性皮炎治疗中的疗效显著，安全性良好。具体表现为：\n",
      "\n",
      "1. **临床结果**：\n",
      "   - Ia期和Ib期临床结果显示，TUL01101在人体内有着良好的量效关系。\n",
      "   - 在患者中疗效显著。\n",
      "\n",
      "2. **安全性**：\n",
      "   - 安全性良好。\n",
      "\n",
      "3. **依从性**：\n",
      "   - 相较注射剂型的度普利尤单抗，TUL01101具备更好的依从性。\n",
      "\n",
      "4\n",
      "PR: 联邦制药的TUL01101片剂和软膏在特应性皮炎治疗中表现出良好的量效关系，疗效显著且安全性良好，相较注射剂型的度普利尤单抗具有更好的依从性。\n",
      "GT file/page: 联邦制药-港股公司研究报告-创新突破三靶点战略联姻诺和诺德-25071225页.pdf 12\n",
      "PR file/page: 联邦制药-港股公司研究报告-创新突破三靶点战略联姻诺和诺德-25071225页.pdf 12\n",
      "\n",
      "Score: 0.8658536585365854\n",
      "Q: 广联达：根据图表130和131，预测2025年我国电子招标采购交易规模将达到多少亿元？\n",
      "GT: 根据图表131中的预测，2025年我国电子招标采购交易规模有望达到42.6亿元。\n",
      "PR: 根据中研普华测算，2025年我国电子招标采购交易规模有望达到42.6亿元\n",
      "GT file/page: 广联达-再谈广联达当前时点下如何看待其三条增长曲线-220217131页.pdf 72\n",
      "PR file/page: 广联达-再谈广联达当前时点下如何看待其三条增长曲线-220217131页.pdf 72\n"
     ]
    }
   ],
   "source": [
    "# Show a couple of worst and best cases inline (adjust k as needed)\n",
    "k = 6\n",
    "print(\"— Worst cases —\")\n",
    "for r in scored_rows_sorted[:k]:\n",
    "    print(\"\\nScore:\", r[\"score\"])\n",
    "    print(\"Q:\", r[\"question\"])\n",
    "    print(\"GT:\", r[\"gt_answer\"])\n",
    "    print(\"PR:\", r[\"pr_answer\"])\n",
    "    print(\"GT file/page:\", r[\"gt_filename\"], r[\"gt_page\"])\n",
    "    print(\"PR file/page:\", r[\"pr_filename\"], r[\"pr_page\"])\n",
    "\n",
    "print(\"\\n— Best cases —\")\n",
    "for r in scored_rows_sorted[-k:]:\n",
    "    print(\"\\nScore:\", r[\"score\"])\n",
    "    print(\"Q:\", r[\"question\"])\n",
    "    print(\"GT:\", r[\"gt_answer\"])\n",
    "    print(\"PR:\", r[\"pr_answer\"])\n",
    "    print(\"GT file/page:\", r[\"gt_filename\"], r[\"gt_page\"])\n",
    "    print(\"PR file/page:\", r[\"pr_filename\"], r[\"pr_page\"])\n"
   ]
  },
  {
   "cell_type": "markdown",
   "id": "ceb39aa2",
   "metadata": {},
   "source": [
    "### Notes\n",
    "- Set a different **sample fraction** by changing the `0.10` in `math.ceil(N * 0.10)`.\n",
    "- If `filename`/`page` in ground truth differ in minor formatting (e.g., case, spaces), add normalization before comparison.\n",
    "- You can plug this same scorer later for validation on a dev split.\n"
   ]
  }
 ],
 "metadata": {
  "kernelspec": {
   "display_name": "Python 3 (ipykernel)",
   "language": "python",
   "name": "python3"
  },
  "language_info": {
   "codemirror_mode": {
    "name": "ipython",
    "version": 3
   },
   "file_extension": ".py",
   "mimetype": "text/x-python",
   "name": "python",
   "nbconvert_exporter": "python",
   "pygments_lexer": "ipython3",
   "version": "3.11.11"
  }
 },
 "nbformat": 4,
 "nbformat_minor": 5
}
