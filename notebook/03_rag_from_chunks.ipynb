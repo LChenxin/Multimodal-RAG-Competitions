{
 "cells": [
  {
   "cell_type": "code",
   "execution_count": 1,
   "id": "a1b152f2",
   "metadata": {},
   "outputs": [],
   "source": [
    "import json\n",
    "import os\n",
    "\n",
    "import hashlib\n",
    "from typing import List, Dict, Any\n",
    "from tqdm import tqdm\n",
    "import sys\n",
    "import concurrent.futures\n",
    "import random\n",
    "\n",
    "from get_text_embedding import get_text_embedding\n",
    "\n",
    "from dotenv import load_dotenv\n",
    "from openai import OpenAI\n",
    "import os, requests"
   ]
  },
  {
   "cell_type": "code",
   "execution_count": 2,
   "id": "17e1ca5e",
   "metadata": {},
   "outputs": [],
   "source": [
    "from rank_bm25 import BM25Okapi\n",
    "import jieba, re\n",
    "\n",
    "def _preprocess(doc: str) -> str:\n",
    "    # 切分 6-8 位数字（日期/代码），弱化连字符/下划线\n",
    "    doc = re.sub(r'(\\d{6,8})', r' \\1 ', doc)\n",
    "    doc = doc.replace('-', ' ').replace('_', ' ')\n",
    "    return doc\n",
    "\n",
    "class FileBM25Index:\n",
    "    \"\"\"\n",
    "    文件级 BM25：用 文件名 + 前3页文本 + 标题/目录 行 来增强“版本可分性”\n",
    "    \"\"\"\n",
    "    def __init__(self, pages_per_file: int = 3, per_page_chars: int = 1500,\n",
    "                 repeat_filename_tokens: int = 2):\n",
    "        self.pages_per_file = pages_per_file\n",
    "        self.per_page_chars = per_page_chars\n",
    "        self.repeat_filename_tokens = repeat_filename_tokens\n",
    "        self.files = []\n",
    "        self.tokens = []\n",
    "        self.fn_to_idx = {}\n",
    "        self.bm25 = None\n",
    "\n",
    "    def build(self, chunks):\n",
    "        # 收集每文件的若干最早页 & 抓取标题行（MinerU markdown 常有 #/##/表/图）\n",
    "        pages_by_file = {}\n",
    "        titles_by_file = {}\n",
    "        for c in chunks:\n",
    "            fn = c[\"metadata\"][\"file_name\"]\n",
    "            pg = int(c[\"metadata\"][\"page\"])\n",
    "            txt = c[\"content\"]\n",
    "            # 标题/目录/图表行\n",
    "            titles = \"\\n\".join(\n",
    "                ln for ln in txt.splitlines()\n",
    "                if ln.lstrip().startswith(('#','##','表','图'))\n",
    "            )\n",
    "            if titles:\n",
    "                titles_by_file.setdefault(fn, []).append(titles[:500])\n",
    "\n",
    "            pages_by_file.setdefault(fn, {})\n",
    "            # 只收每页一次\n",
    "            if pg not in pages_by_file[fn]:\n",
    "                pages_by_file[fn][pg] = txt\n",
    "\n",
    "        self.files, self.tokens, self.fn_to_idx = [], [], {}\n",
    "        for fn, pgmap in pages_by_file.items():\n",
    "            first_pages = [pgmap[p] for p in sorted(pgmap)[: self.pages_per_file]]\n",
    "            titles = \"\\n\".join(titles_by_file.get(fn, []))[:1500]\n",
    "            # 文档：文件名 + 标题/目录摘要 + 前3页各1500字\n",
    "            doc = f\"{fn}\\n{titles}\\n\" + \"\\n\".join(fp[: self.per_page_chars] for fp in first_pages)\n",
    "            doc = _preprocess(doc)\n",
    "            toks = list(jieba.cut(doc))\n",
    "            # 额外重复文件名分词，放大“版本词/日期码”权重\n",
    "            toks += list(jieba.cut(_preprocess(fn))) * self.repeat_filename_tokens\n",
    "\n",
    "            self.fn_to_idx[fn] = len(self.files)\n",
    "            self.files.append(fn)\n",
    "            self.tokens.append(toks)\n",
    "\n",
    "        self.bm25 = BM25Okapi(self.tokens)\n",
    "\n",
    "    def top_files(self, query, n=25):\n",
    "        if not self.bm25:\n",
    "            return []\n",
    "        q = list(jieba.cut(_preprocess(query)))\n",
    "        scores = self.bm25.get_scores(q)\n",
    "        order = sorted(range(len(scores)), key=lambda i: scores[i], reverse=True)\n",
    "        return [(self.files[i], float(scores[i])) for i in order[:n]]\n"
   ]
  },
  {
   "cell_type": "code",
   "execution_count": 3,
   "id": "e6002c0b",
   "metadata": {},
   "outputs": [],
   "source": [
    "import re\n",
    "def rrf(rank, k=90):\n",
    "    \"\"\"\n",
    "    Reciprocal Rank Fusion 基本项。\n",
    "    约定 rank 为 0-based，这里内部转为 1-based 以避免极端放大。\n",
    "    k 越大越“温和”，推荐 90。\n",
    "    \"\"\"\n",
    "    r = int(rank) + 1\n",
    "    return 1.0 / (k + r)\n",
    "\n",
    "\n",
    "THEME_TOKENS = [\"二次创业\",\"三条增长曲线\",\"深度复盘\",\"稳定成长\",\"公司深度报告\",\"再谈\",\"走在修复的道路上\"]\n",
    "def extract_years(q): return set(re.findall(r\"20\\d{2}\", q))\n",
    "\n",
    "def soft_bias(ranked, question, year_boost=0.15, theme_boost=0.05):\n",
    "    years = extract_years(question)\n",
    "    themed = any(t in question for t in THEME_TOKENS)\n",
    "    for c in ranked:\n",
    "        fn = c[\"metadata\"][\"file_name\"]\n",
    "        s  = c.get(\"rerank_score\", 0.0)\n",
    "        if years and any(y in fn for y in years): s += year_boost\n",
    "        if themed: s += theme_boost if any(t in fn for t in THEME_TOKENS) else 0.0\n",
    "        c[\"rerank_score\"] = s\n",
    "    ranked.sort(key=lambda x: x[\"rerank_score\"], reverse=True)\n",
    "    return ranked\n",
    "\n"
   ]
  },
  {
   "cell_type": "code",
   "execution_count": 4,
   "id": "18779430",
   "metadata": {},
   "outputs": [],
   "source": [
    "from collections import defaultdict\n",
    "import numpy as np\n",
    "\n",
    "def file_vote(ranked_chunks, top_n_files=1, agg=\"sum\"):\n",
    "    buckets = defaultdict(list)\n",
    "    for c in ranked_chunks:\n",
    "        fn = c[\"metadata\"][\"file_name\"]\n",
    "        s  = c.get(\"rerank_score\", c.get(\"ret_score\", 0.0))\n",
    "        buckets[fn].append(float(s))\n",
    "\n",
    "    def agg_fn(v):\n",
    "        v = np.asarray(v, float)\n",
    "        return v.sum() if agg==\"sum\" else (v.mean() if agg==\"mean\" else v.max())\n",
    "\n",
    "    scored = sorted([(fn, agg_fn(v)) for fn, v in buckets.items()], key=lambda x: x[1], reverse=True)\n",
    "    keep = set(fn for fn,_ in scored[:top_n_files])\n",
    "    kept = [c for c in ranked_chunks if c[\"metadata\"][\"file_name\"] in keep]\n",
    "    return kept, (scored[0][0] if scored else None, dict(scored))\n"
   ]
  },
  {
   "cell_type": "code",
   "execution_count": 5,
   "id": "1e717a23",
   "metadata": {},
   "outputs": [],
   "source": [
    "# # Build windows from existing MinerU chunks: all_pdf_page_chunks.json -> all_pdf_windows.json RUN ONCE FIX page\n",
    "# import json, re, hashlib\n",
    "# from pathlib import Path\n",
    "\n",
    "# SRC = Path(\"./all_pdf_page_chunks_mineru.json\")          # MinerU output you already have\n",
    "# DST = Path(\"./all_pdf_windows_mineru.json\")              # new, windowized chunks\n",
    "\n",
    "# HDR = re.compile(r\"^(#{1,3})\\s+.+\", re.M)         # #, ##, ### headings\n",
    "# FIG = re.compile(r\"!\\[[^\\]]*\\]\\([^)]+\\)\")         # markdown images\n",
    "# TB  = re.compile(r\"<table[\\s\\S]*?</table>\", re.I)  # html tables\n",
    "\n",
    "# def _norm(s): return re.sub(r\"\\s+\", \" \", (s or \"\").strip())\n",
    "\n",
    "# def split_by_headers(md: str):\n",
    "#     # keep figure/table blocks as atomic spans\n",
    "#     blocks = []\n",
    "#     # placeholder tokens for figures/tables\n",
    "#     fig_tokens, tab_tokens = [], []\n",
    "#     def _stash(pattern, text, token_prefix):\n",
    "#         out, toks, i = text, [], 0\n",
    "#         for m in pattern.finditer(text):\n",
    "#             tok = f\"__{token_prefix}_{i}__\"\n",
    "#             toks.append((tok, m.group(0)))\n",
    "#             out = out.replace(m.group(0), tok, 1)\n",
    "#             i += 1\n",
    "#         return out, toks\n",
    "#     text, figs = _stash(FIG, md, \"FIG\")\n",
    "#     text, tabs = _stash(TB,  text, \"TAB\")\n",
    "\n",
    "#     # split by headers; if none, single block\n",
    "#     parts = []\n",
    "#     last = 0\n",
    "#     for m in HDR.finditer(text):\n",
    "#         if m.start() > last:\n",
    "#             parts.append(text[last:m.start()])\n",
    "#         parts.append(text[m.start():m.end()])  # header line as its own piece\n",
    "#         last = m.end()\n",
    "#     if last < len(text):\n",
    "#         parts.append(text[last:])\n",
    "\n",
    "#     # restore tokens\n",
    "#     def _restore(s, toks):\n",
    "#         for tok, val in toks:\n",
    "#             s = s.replace(tok, val)\n",
    "#         return s\n",
    "#     parts = [_restore(_restore(p, figs), tabs) for p in parts]\n",
    "#     # drop empties\n",
    "#     parts = [p for p in parts if _norm(p)]\n",
    "#     return parts\n",
    "\n",
    "# def windowize(parts, target=900, overlap=150):\n",
    "#     out, buf = [], \"\"\n",
    "#     for p in parts:\n",
    "#         p = _norm(p)\n",
    "#         if len(p) <= target:\n",
    "#             if len(buf) + len(p) + 1 <= target:\n",
    "#                 buf = (buf + \" \" + p).strip()\n",
    "#             else:\n",
    "#                 if buf: out.append(buf)\n",
    "#                 tail = buf[-overlap:] if buf and overlap else \"\"\n",
    "#                 buf = (tail + \" \" + p).strip()\n",
    "#         else:\n",
    "#             # long piece -> sliding windows\n",
    "#             stride = max(50, target - overlap)\n",
    "#             i = 0\n",
    "#             while i < len(p):\n",
    "#                 out.append(_norm(p[i:i+target]))\n",
    "#                 i += stride\n",
    "#     if buf: out.append(buf)\n",
    "#     return out\n",
    "\n",
    "# print(\"Loading MinerU page chunks…\")\n",
    "# chunks = json.loads(Path(SRC).read_text(encoding=\"utf-8\"))\n",
    "# print(f\"Loaded {len(chunks)} page-chunks\")\n",
    "\n",
    "# seen, windows = set(), []\n",
    "# for c in chunks:\n",
    "#     file = c[\"metadata\"][\"file_name\"]\n",
    "#     page = int(c[\"metadata\"][\"page\"])+1   # shift 1 , quick fix for the fucked up in mineru process\n",
    "#     parts = split_by_headers(c[\"content\"])\n",
    "#     wins  = windowize(parts, target=900, overlap=150)\n",
    "#     for widx, w in enumerate(wins):\n",
    "#         h = hashlib.md5(_norm(w).encode()).hexdigest()\n",
    "#         if h in seen: \n",
    "#             continue\n",
    "#         seen.add(h)\n",
    "#         windows.append({\n",
    "#             \"id\": f\"{c['id']}_w{widx}\",\n",
    "#             \"content\": w,\n",
    "#             \"metadata\": {\n",
    "#                 \"file_name\": file,\n",
    "#                 \"page\": page,         \n",
    "#                 \"widx\": widx\n",
    "#             }\n",
    "#         })\n",
    "\n",
    "# print(f\"Built {len(windows)} windows\")\n",
    "# DST.write_text(json.dumps(windows, ensure_ascii=False, indent=2), encoding=\"utf-8\")\n",
    "# print(f\"Saved -> {DST}\")"
   ]
  },
  {
   "cell_type": "code",
   "execution_count": 6,
   "id": "1597c84d",
   "metadata": {},
   "outputs": [],
   "source": [
    "from collections import defaultdict\n",
    "import numpy as np\n",
    "#   Score drop IDK\n",
    "# def file_vote(ranked_chunks, top_n_files=1, agg=\"sum\"):\n",
    "#     \"\"\"\n",
    "#     Aggregate scores per filename and keep chunks from the winning file(s).\n",
    "#     ranked_chunks: reranked list (desc), each with [\"metadata\"][\"file_name\"] and \"rerank_score\".\n",
    "#     \"\"\"\n",
    "#     buckets = defaultdict(list)\n",
    "#     for c in ranked_chunks:\n",
    "#         fn = c[\"metadata\"][\"file_name\"]\n",
    "#         s = c.get(\"rerank_score\", c.get(\"ret_score\", 0.0))\n",
    "#         buckets[fn].append(float(s))\n",
    "\n",
    "#     def agg_fn(v):\n",
    "#         v = np.asarray(v, float)\n",
    "#         if agg == \"mean\": return v.mean()\n",
    "#         if agg == \"max\":  return v.max()\n",
    "#         return v.sum()  # default\n",
    "\n",
    "#     scored = sorted([(fn, agg_fn(v)) for fn, v in buckets.items()],\n",
    "#                     key=lambda x: x[1], reverse=True)\n",
    "#     keep_files = set(fn for fn, _ in scored[:top_n_files])\n",
    "#     kept = [c for c in ranked_chunks if c[\"metadata\"][\"file_name\"] in keep_files]\n",
    "#     # Keep a tiny meta for telemetry\n",
    "#     return kept, (scored[0][0] if scored else None, dict(scored))\n",
    "\n",
    "def page_vote(ranked_chunks, top_m_pages=1, agg=\"max\"):\n",
    "    \"\"\"\n",
    "    ranked_chunks: list already reranked by your reranker (desc)\n",
    "    Aggregate scores per (file_name, page) and return chunks from the winning page(s).\n",
    "    \"\"\"\n",
    "    buckets = defaultdict(list)\n",
    "    for c in ranked_chunks:\n",
    "        key = (c[\"metadata\"][\"file_name\"], int(c[\"metadata\"][\"page\"]))\n",
    "        s = c.get(\"rerank_score\", c.get(\"ret_score\", 0.0))\n",
    "        buckets[key].append(float(s))\n",
    "\n",
    "    def agg_fn(v):\n",
    "        v = np.asarray(v, float)\n",
    "        if agg == \"sum\": return v.sum()\n",
    "        if agg == \"mean\": return v.mean()\n",
    "        return v.max()\n",
    "\n",
    "    scored_pages = sorted([(k, agg_fn(v)) for k, v in buckets.items()], key=lambda x: x[1], reverse=True)\n",
    "    keep_keys = set(k for k,_ in scored_pages[:top_m_pages])\n",
    "    return [c for c in ranked_chunks if (c[\"metadata\"][\"file_name\"], int(c[\"metadata\"][\"page\"])) in keep_keys]\n",
    "\n",
    "def expand_neighbors_on_page(page_chunks, radius=1, max_total=8):\n",
    "    # Assumes all chunks are from the same (file,page); use their widx to add neighbors\n",
    "    page_chunks = sorted(page_chunks, key=lambda x: x[\"metadata\"].get(\"widx\", 0))\n",
    "    out = []\n",
    "    picked = set()\n",
    "    for c in page_chunks[:max_total]:\n",
    "        w = c[\"metadata\"].get(\"widx\", 0)\n",
    "        for j in range(max(0, w - radius), min(len(page_chunks), w + radius + 1)):\n",
    "            cj = page_chunks[j]\n",
    "            key = cj[\"metadata\"].get(\"widx\", j)\n",
    "            if key in picked: \n",
    "                continue\n",
    "            picked.add(key); out.append(cj)\n",
    "            if len(out) >= max_total: \n",
    "                return out\n",
    "    return out or page_chunks[:max_total]\n"
   ]
  },
  {
   "cell_type": "code",
   "execution_count": 7,
   "id": "d8697dc6",
   "metadata": {},
   "outputs": [],
   "source": [
    "import os, re, time, requests\n",
    "\n",
    "class SiliconFlowReranker:\n",
    "    def __init__(self, api_key: str = None,\n",
    "                 model: str = \"BAAI/bge-reranker-v2-m3\",\n",
    "                 endpoint: str = \"https://api.siliconflow.cn/v1/rerank\",\n",
    "                 timeout: int = 30,\n",
    "                 max_retries: int = 4,\n",
    "                 add_header: bool = True,\n",
    "                 header_snippet_chars: int = 300):\n",
    "        self.api_key = api_key or os.getenv('LOCAL_API_KEY')\n",
    "        if not self.api_key:\n",
    "            raise ValueError(\"Missing SILICONFLOW_API_KEY\")\n",
    "        self.model = model\n",
    "        self.endpoint = endpoint\n",
    "        self.timeout = timeout\n",
    "        self.max_retries = max_retries\n",
    "\n",
    "        # NEW\n",
    "        self.add_header = add_header\n",
    "        self.header_snippet_chars = header_snippet_chars\n",
    "\n",
    "    def _extract_date_from_filename(self, fn: str) -> str:\n",
    "        \"\"\"\n",
    "        Try to parse YYYY[-_.]?MM[-_.]?DD in filename and normalize to YYYY-MM-DD.\n",
    "        Returns '' if not found.\n",
    "        \"\"\"\n",
    "        m = re.search(r'(20\\d{2})[-_.]?(0[1-9]|1[0-2])[-_.]?(0[1-9]|[12]\\d|3[01])', fn)\n",
    "        if not m: return ''\n",
    "        y, mo, d = m.groups()\n",
    "        return f\"{y}-{mo}-{d}\"\n",
    "\n",
    "    def _make_header(self, c: dict) -> str:\n",
    "        meta = c.get(\"metadata\", {})\n",
    "        fn = str(meta.get(\"file_name\", \"\"))\n",
    "        pg = str(meta.get(\"page\", \"\"))\n",
    "        dt = self._extract_date_from_filename(fn)\n",
    "        snippet = c.get(\"content\", \"\")[: self.header_snippet_chars]\n",
    "        parts = [f\"【文件】{fn}\", f\"【页】{pg}\"]\n",
    "        if dt: parts.append(f\"【日期】{dt}\")\n",
    "        parts.append(f\"【摘要】{snippet}\")\n",
    "        return \"\\n\".join(parts) + \"\\n\"\n",
    "\n",
    "    def rerank(self, question: str, candidates: list, return_meta: bool = False):\n",
    "        \"\"\"\n",
    "        Returns:\n",
    "          ranked_chunks, meta where meta = {\"status\": http_status or None, \"attempts\": N}\n",
    "        Retries on 429/5xx with exponential backoff.\n",
    "        \"\"\"\n",
    "        # Build documents (with optional header)\n",
    "        if self.add_header:\n",
    "            documents = [self._make_header(c) + c[\"content\"] for c in candidates]\n",
    "        else:\n",
    "            documents = [c[\"content\"] for c in candidates]\n",
    "\n",
    "        payload = {\"model\": self.model, \"query\": question, \"documents\": documents}\n",
    "        headers = {\"Authorization\": f\"Bearer {self.api_key}\", \"Content-Type\": \"application/json\"}\n",
    "\n",
    "        status = None\n",
    "        attempts = 0\n",
    "        data = None\n",
    "\n",
    "        for attempt in range(self.max_retries):\n",
    "            attempts = attempt + 1\n",
    "            try:\n",
    "                r = requests.post(self.endpoint, json=payload, headers=headers, timeout=self.timeout)\n",
    "                status = r.status_code\n",
    "                if status in (429, 500, 502, 503, 504):\n",
    "                    time.sleep(2 ** attempt)  # backoff\n",
    "                    continue\n",
    "                r.raise_for_status()\n",
    "                data = r.json()\n",
    "                break\n",
    "            except requests.RequestException:\n",
    "                time.sleep(2 ** attempt)\n",
    "\n",
    "        ranked = []\n",
    "        if data:\n",
    "            results = data.get(\"results\") or data.get(\"data\") or []\n",
    "            seen = set()\n",
    "            for res in results:\n",
    "                idx = res.get(\"index\")\n",
    "                if idx is None or idx >= len(candidates):\n",
    "                    continue\n",
    "                seen.add(idx)\n",
    "                c = dict(candidates[idx])\n",
    "                c[\"rerank_score\"] = float(res.get(\"relevance_score\", 0.0))\n",
    "                ranked.append(c)\n",
    "            # fill any missing\n",
    "            for i, c in enumerate(candidates):\n",
    "                if i not in seen:\n",
    "                    cc = dict(c); cc[\"rerank_score\"] = 0.0\n",
    "                    ranked.append(cc)\n",
    "            ranked.sort(key=lambda x: x[\"rerank_score\"], reverse=True)\n",
    "\n",
    "        meta = {\"status\": status, \"attempts\": attempts}\n",
    "        return (ranked, meta) if return_meta else ranked\n"
   ]
  },
  {
   "cell_type": "code",
   "execution_count": 8,
   "id": "add01a48",
   "metadata": {},
   "outputs": [],
   "source": [
    "class PageChunkLoader:\n",
    "    def __init__(self, json_path: str):\n",
    "        self.json_path = json_path\n",
    "    def load_chunks(self) -> List[Dict[str, Any]]:\n",
    "        with open(self.json_path, 'r', encoding='utf-8') as f:\n",
    "            return json.load(f)"
   ]
  },
  {
   "cell_type": "code",
   "execution_count": 9,
   "id": "afbb00f3",
   "metadata": {},
   "outputs": [],
   "source": [
    "class EmbeddingModel:\n",
    "    def __init__(self, batch_size: int = 64):\n",
    "        self.api_key = os.getenv('LOCAL_API_KEY')\n",
    "        self.base_url = os.getenv('LOCAL_BASE_URL')\n",
    "        self.embedding_model = os.getenv('LOCAL_EMBEDDING_MODEL')\n",
    "        self.batch_size = batch_size\n",
    "        if not self.api_key or not self.base_url:\n",
    "            raise ValueError('请在.env中配置LOCAL_API_KEY和LOCAL_BASE_URL')\n",
    "\n",
    "    def embed_texts(self, texts: List[str]) -> List[List[float]]:\n",
    "        return get_text_embedding(\n",
    "            texts,\n",
    "            api_key=self.api_key,\n",
    "            base_url=self.base_url,\n",
    "            embedding_model=self.embedding_model,\n",
    "            batch_size=self.batch_size\n",
    "        )\n",
    "\n",
    "    def embed_text(self, text: str) -> List[float]:\n",
    "        return self.embed_texts([text])[0]"
   ]
  },
  {
   "cell_type": "code",
   "execution_count": 10,
   "id": "e741cd06",
   "metadata": {},
   "outputs": [],
   "source": [
    "class SimpleVectorStore:\n",
    "    def __init__(self):\n",
    "        self.embeddings = []\n",
    "        self.chunks = []\n",
    "    def add_chunks(self, chunks: List[Dict[str, Any]], embeddings: List[List[float]]):\n",
    "        self.chunks.extend(chunks)\n",
    "        self.embeddings.extend(embeddings)\n",
    "    def search(self, query_embedding: List[float], top_k: int = 3) -> List[Dict[str, Any]]:\n",
    "        from numpy import dot\n",
    "        from numpy.linalg import norm\n",
    "        import numpy as np\n",
    "        if not self.embeddings:\n",
    "            return []\n",
    "        emb_matrix = np.array(self.embeddings)\n",
    "        query_emb = np.array(query_embedding)\n",
    "        sims = emb_matrix @ query_emb / (norm(emb_matrix, axis=1) * norm(query_emb) + 1e-8)\n",
    "        idxs = sims.argsort()[::-1][:top_k]\n",
    "        return [self.chunks[i] for i in idxs]"
   ]
  },
  {
   "cell_type": "code",
   "execution_count": 11,
   "id": "8e391bca",
   "metadata": {},
   "outputs": [],
   "source": [
    "from collections import defaultdict\n",
    "\n",
    "def pick_best_page_and_expand(file_scoped, final_k=5, radius=1):\n",
    "    # group by page\n",
    "    by_page = defaultdict(list)\n",
    "    for c in file_scoped:\n",
    "        by_page[int(c[\"metadata\"][\"page\"])].append(c)\n",
    "    # score each page by max rerank_score\n",
    "    page_scores = [(pg, max(float(x.get(\"rerank_score\", 0.0)) for x in cs))\n",
    "                   for pg, cs in by_page.items()]\n",
    "    best_pg, _ = max(page_scores, key=lambda t: t[1])\n",
    "\n",
    "    page_chunks = sorted(by_page[best_pg], key=lambda x: x[\"metadata\"].get(\"widx\", 0))\n",
    "    # expand around the highest-scored chunk on that page\n",
    "    top_idx = max(range(len(page_chunks)),\n",
    "                  key=lambda i: float(page_chunks[i].get(\"rerank_score\", 0.0)))\n",
    "    w0 = page_chunks[top_idx][\"metadata\"].get(\"widx\", top_idx)\n",
    "\n",
    "    # collect neighbors by widx\n",
    "    wanted = {w0}\n",
    "    for r in range(1, radius+1):\n",
    "        wanted.add(w0 - r); wanted.add(w0 + r)\n",
    "\n",
    "    chosen = [c for c in page_chunks if c[\"metadata\"].get(\"widx\", -10**9) in wanted]\n",
    "    # backfill with other chunks on same page if needed\n",
    "    if len(chosen) < final_k:\n",
    "        for c in page_chunks:\n",
    "            if c not in chosen:\n",
    "                chosen.append(c)\n",
    "            if len(chosen) >= final_k: break\n",
    "    return chosen[:final_k]\n"
   ]
  },
  {
   "cell_type": "code",
   "execution_count": 12,
   "id": "b79cfc0c",
   "metadata": {},
   "outputs": [],
   "source": [
    "from typing import Dict, Any, List, Optional\n",
    "import os\n",
    "from openai import OpenAI\n",
    "\n",
    "class SimpleRAG:\n",
    "    def __init__(\n",
    "        self,\n",
    "        chunk_json_path: str,\n",
    "        model_path: str = None,\n",
    "        batch_size: int = 32,\n",
    "        use_rerank: bool = False,\n",
    "        candidate_k: int = 120,\n",
    "        final_k: int = 5,\n",
    "        reranker=None,\n",
    "        \n",
    "    ):\n",
    "        self.loader = PageChunkLoader(chunk_json_path)\n",
    "        self.embedding_model = EmbeddingModel(batch_size=batch_size)\n",
    "        self.vector_store = SimpleVectorStore()\n",
    "        \n",
    "\n",
    "        # Rerank controls\n",
    "        self.use_rerank = use_rerank\n",
    "        self.candidate_k = candidate_k\n",
    "        self.final_k = final_k\n",
    "        self.reranker = reranker\n",
    "        \n",
    "\n",
    "        # Behavior flags\n",
    "        self.lock_source     = bool(int(os.getenv(\"LOCK_SOURCE\",  \"0\")))\n",
    "        self.strict_rerank   = bool(int(os.getenv(\"STRICT_RERANK\",\"0\")))\n",
    "        self.debug_telemetry = bool(int(os.getenv(\"DEBUG_RAG\",    \"1\")))\n",
    "\n",
    "        self.limit_per_file = int(os.getenv(\"LIMIT_PER_FILE\", \"12\"))\n",
    "\n",
    "\n",
    "        # # Retrieval helpers\n",
    "        # self.file_bm25 = FileBM25Index(pages_per_file=3, per_page_chars=1500, repeat_filename_tokens=2)\n",
    "        # self.file_bm25.build(self.chunks)\n",
    "\n",
    "\n",
    "        # Hold corpus if needed elsewhere\n",
    "        self.chunks = None                 # <-- set in setup()\n",
    "\n",
    "    def setup(self):\n",
    "        print(\"加载所有页chunk...\")\n",
    "        self.chunks = self.loader.load_chunks()\n",
    "        print(f\"共加载 {len(self.chunks)} 个chunk\")\n",
    "\n",
    "        print(\"生成嵌入...\")\n",
    "        embeddings = self.embedding_model.embed_texts([c[\"content\"] for c in self.chunks])\n",
    "\n",
    "        print(\"存储向量...\")\n",
    "        self.vector_store.add_chunks(self.chunks, embeddings)\n",
    "\n",
    "        # Build file-level BM25 now that chunks exist\n",
    "        print(\"构建文件级BM25索引...\")\n",
    "        self.file_bm25 = FileBM25Index(pages_per_file=3, per_page_chars=1500, repeat_filename_tokens=2)\n",
    "        self.file_bm25.build(self.chunks)\n",
    "\n",
    "        print(\"RAG向量库构建完成！\")\n",
    "\n",
    "    def query(self, question: str, top_k: int = 3) -> Dict[str, Any]:\n",
    "        q_emb = self.embedding_model.embed_text(question)\n",
    "        results = self.vector_store.search(q_emb, top_k)\n",
    "        return {\"question\": question, \"chunks\": results}\n",
    "\n",
    "    def _build_context(self, items: List[Dict[str, Any]]) -> str:\n",
    "        return \"\\n\".join(\n",
    "            f\"[文件名]{c['metadata']['file_name']} [页码]{c['metadata']['page']}\\n{c['content']}\"\n",
    "            for c in items\n",
    "        )\n",
    "\n",
    "    def generate_answer(self, question: str, top_k: int = 3) -> Dict[str, Any]:\n",
    "        qwen_api_key = os.getenv(\"LOCAL_API_KEY\")\n",
    "        qwen_base_url = os.getenv(\"LOCAL_BASE_URL\")\n",
    "        qwen_model    = os.getenv(\"LOCAL_TEXT_MODEL\")\n",
    "        if not qwen_api_key or not qwen_base_url or not qwen_model:\n",
    "            raise ValueError(\"请在.env中配置LOCAL_API_KEY、LOCAL_BASE_URL、LOCAL_TEXT_MODEL\")\n",
    "\n",
    "        tele = {\"path\":\"\", \"rerank_ok\":False, \"rerank_attempts\":0, \"rerank_http\":None,\n",
    "                \"cand_n\":0, \"ranked_n\":0, \"file_vote_best\":None, \"file_vote_n\":0, \"final_n\":0}\n",
    "\n",
    "        # Stage-A dense\n",
    "        q_emb = self.embedding_model.embed_text(question)\n",
    "        candidates = self.vector_store.search(q_emb, self.candidate_k)\n",
    "        tele[\"cand_n\"] = len(candidates)\n",
    "\n",
    "        # Optional per-file diversity cap\n",
    "        if candidates and self.limit_per_file > 0:\n",
    "            by_file, diverse = {}, []\n",
    "            for c in candidates:\n",
    "                fn = c[\"metadata\"][\"file_name\"]\n",
    "                by_file.setdefault(fn, 0)\n",
    "                if by_file[fn] < self.limit_per_file:\n",
    "                    diverse.append(c); by_file[fn] += 1\n",
    "            candidates = diverse\n",
    "\n",
    "        # RRF fuse with file-level BM25 (only if built)\n",
    "        if self.file_bm25 and candidates:\n",
    "            # 记录 BEFORE (先存，再融合)\n",
    "            pre_rrf_files = list(dict.fromkeys([c[\"metadata\"][\"file_name\"] for c in candidates]))\n",
    "            tele[\"first3_files_before_rrf\"] = pre_rrf_files[:3]\n",
    "\n",
    "            # 参数\n",
    "            BM25_TOPN = int(os.getenv(\"BM25_TOPN\", \"25\"))\n",
    "            RRF_K     = int(os.getenv(\"RRF_K\", \"90\"))\n",
    "\n",
    "            # BM25 文件排名\n",
    "            top_files = self.file_bm25.top_files(question, n=BM25_TOPN)\n",
    "            tele[\"bm25_top_files\"] = [fn for fn, _ in top_files[:5]]\n",
    "\n",
    "            # 融合（统一用 RRF_K；rank 约定 0-based -> rrf 内部会 +1）\n",
    "            file_to_rank = {fn: r for r, (fn, _) in enumerate(top_files)}\n",
    "            BIG = 10_000\n",
    "\n",
    "            fused = []\n",
    "            for i, c in enumerate(candidates):\n",
    "                fn = c[\"metadata\"][\"file_name\"]\n",
    "                dense_rank = i\n",
    "                bm25_rank  = file_to_rank.get(fn, BIG)\n",
    "                score = rrf(dense_rank, k=RRF_K) + rrf(bm25_rank, k=RRF_K)\n",
    "                cc = dict(c); cc[\"fused_score\"] = score\n",
    "                fused.append(cc)\n",
    "\n",
    "            candidates = sorted(fused, key=lambda x: x[\"fused_score\"], reverse=True)\n",
    "\n",
    "        # 记录 AFTER（放在 if 外也行，candidates 一定存在）\n",
    "        tele[\"first3_files_after_rrf\"] = list(dict.fromkeys([c[\"metadata\"][\"file_name\"] for c in candidates]))[:3]\n",
    "\n",
    "\n",
    "        # Rerank → soft bias → file_vote → neighbor expansion\n",
    "        if self.use_rerank and self.reranker is not None and candidates:\n",
    "            tele[\"path\"] = \"rerank\"\n",
    "            ranked, rr_meta = self.reranker.rerank(question, candidates, return_meta=True)\n",
    "            tele[\"rerank_http\"] = rr_meta.get(\"status\"); tele[\"rerank_attempts\"] = rr_meta.get(\"attempts\")\n",
    "            tele[\"ranked_n\"] = len(ranked); tele[\"rerank_ok\"] = bool(ranked)\n",
    "\n",
    "            if not ranked:\n",
    "                if self.strict_rerank:\n",
    "                    raise RuntimeError(f\"Rerank failed (status={tele['rerank_http']}) and STRICT_RERANK=1\")\n",
    "                chunks = candidates[: self.final_k]\n",
    "            else:\n",
    "                ranked = soft_bias(ranked, question)  # cheap nudge on year/theme\n",
    "                file_scoped, (best_file, _) = file_vote(ranked, top_n_files=1, agg=\"max\") # Change sum to MAX\n",
    "                chunks = pick_best_page_and_expand(file_scoped, final_k=self.final_k, radius=1)\n",
    "\n",
    "                # no page_vote; just take neighbors within the chosen file\n",
    "                try:\n",
    "                    chunks = expand_neighbors_on_page(file_scoped, radius=1, max_total=self.final_k)\n",
    "                except Exception:\n",
    "                    chunks = file_scoped[: self.final_k]\n",
    "        else:\n",
    "            tele[\"path\"] = \"baseline\"\n",
    "            chunks = candidates[: top_k]\n",
    "\n",
    "        tele[\"final_n\"] = len(chunks)\n",
    "\n",
    "        # Early exit\n",
    "        if not chunks:\n",
    "            out = {\"question\": question, \"answer\": \"\", \"filename\": \"\", \"page\": \"\", \"retrieval_chunks\": []}\n",
    "            if self.debug_telemetry: out[\"debug\"] = tele\n",
    "            return out\n",
    "\n",
    "        # Evidence for LOCK_SOURCE\n",
    "        top_file = chunks[0]['metadata']['file_name']\n",
    "        top_page = chunks[0]['metadata']['page']\n",
    "\n",
    "        # Build context\n",
    "        context = self._build_context(chunks)\n",
    "\n",
    "        # LLM call\n",
    "        client = OpenAI(api_key=qwen_api_key, base_url=qwen_base_url)\n",
    "        prompt = (\n",
    "            \"你是一名专业的金融分析助手，请根据以下检索到的内容回答用户问题。\\n\"\n",
    "            \"请严格按照如下JSON格式输出：\\n\"\n",
    "            '{\"answer\": \"你的简洁回答\", \"filename\": \"来源文件名\", \"page\": \"来源页码\"}\\n'\n",
    "            f\"检索内容：\\n{context}\\n\\n问题：{question}\\n\"\n",
    "            \"请确保输出内容为合法JSON字符串，不要输出多余内容。\"\n",
    "        )\n",
    "        completion = client.chat.completions.create(\n",
    "            model=qwen_model,\n",
    "            messages=[{\"role\": \"system\", \"content\": \"你是一名专业的金融分析助手。\"},\n",
    "                      {\"role\": \"user\", \"content\": prompt}],\n",
    "            temperature=0.2, max_tokens=1024,\n",
    "        )\n",
    "\n",
    "        import json as pyjson\n",
    "        from extract_json_array import extract_json_array\n",
    "        raw = completion.choices[0].message.content.strip()\n",
    "        json_str = extract_json_array(raw, mode=\"objects\")\n",
    "\n",
    "        if json_str:\n",
    "            try:\n",
    "                arr = pyjson.loads(json_str)\n",
    "                if isinstance(arr, list) and arr:\n",
    "                    j = arr[0]\n",
    "                    answer = j.get(\"answer\", \"\"); filename = j.get(\"filename\", \"\"); page = j.get(\"page\", \"\")\n",
    "                else:\n",
    "                    answer, filename, page = raw, top_file, top_page\n",
    "            except Exception:\n",
    "                answer, filename, page = raw, top_file, top_page\n",
    "        else:\n",
    "            answer, filename, page = raw, top_file, top_page\n",
    "\n",
    "        # normalize page & apply offset\n",
    "        PAGE_OFFSET = int(os.getenv(\"PAGE_OFFSET\", \"0\"))\n",
    "        try:\n",
    "            if page not in (\"\", None): page = int(page) + PAGE_OFFSET\n",
    "        except Exception:\n",
    "            try: page = int(top_page) + PAGE_OFFSET\n",
    "            except Exception: page = top_page\n",
    "\n",
    "        # LOCK_SOURCE\n",
    "        model_file, model_page = filename, page\n",
    "        if self.lock_source and chunks:\n",
    "            filename, page = top_file, (int(top_page) + PAGE_OFFSET if str(top_page).isdigit() else top_page)\n",
    "\n",
    "        out = {\"question\": question, \"answer\": answer, \"filename\": filename, \"page\": page, \"retrieval_chunks\": chunks}\n",
    "        if self.debug_telemetry:\n",
    "            tele.update({\"top_file\": top_file, \"top_page\": top_page, \"model_file\": model_file, \"model_page\": model_page})\n",
    "            out[\"debug\"] = tele\n",
    "        return out\n"
   ]
  },
  {
   "cell_type": "code",
   "execution_count": 13,
   "id": "04e17890",
   "metadata": {},
   "outputs": [
    {
     "name": "stdout",
     "output_type": "stream",
     "text": [
      "Notebook Dir: d:\\Datawhale\\Multimodal-RAG-Competitions\\notebook\n",
      "Project Root : d:\\Datawhale\\Multimodal-RAG-Competitions\n",
      "Train JSON   : d:\\Datawhale\\Multimodal-RAG-Competitions\\data\\train.json\n",
      "Chunks JSON  : d:\\Datawhale\\Multimodal-RAG-Competitions\\notebook\\all_pdf_windows_mineru.json\n"
     ]
    },
    {
     "name": "stderr",
     "output_type": "stream",
     "text": [
      "C:\\Users\\liuch\\AppData\\Local\\Packages\\PythonSoftwareFoundation.Python.3.11_qbz5n2kfra8p0\\LocalCache\\local-packages\\Python311\\site-packages\\tqdm\\auto.py:21: TqdmWarning: IProgress not found. Please update jupyter and ipywidgets. See https://ipywidgets.readthedocs.io/en/stable/user_install.html\n",
      "  from .autonotebook import tqdm as notebook_tqdm\n"
     ]
    }
   ],
   "source": [
    "# 1) Imports & Paths\n",
    "from pathlib import Path\n",
    "import os, json, random\n",
    "from tqdm.auto import tqdm\n",
    "import concurrent.futures\n",
    "import math\n",
    "\n",
    "# Notebook is in .../notebook; project root is parent\n",
    "NOTEBOOK_DIR = Path.cwd()\n",
    "PROJ_ROOT = NOTEBOOK_DIR.parent\n",
    "\n",
    "# Try common locations for train.json\n",
    "CANDIDATE_TRAIN = [\n",
    "    PROJ_ROOT / \"datas\" / \"train.json\",\n",
    "    PROJ_ROOT / \"data\" / \"train.json\",\n",
    "    NOTEBOOK_DIR / \"datas\" / \"train.json\",\n",
    "    NOTEBOOK_DIR / \"data\" / \"train.json\",\n",
    "]\n",
    "TRAIN_PATH = next((p for p in CANDIDATE_TRAIN if p.exists()), None)\n",
    "if TRAIN_PATH is None:\n",
    "    raise FileNotFoundError(f\"train.json not found in: {CANDIDATE_TRAIN}\")\n",
    "\n",
    "# Chunk JSON path (your earlier structure)\n",
    "CHUNK_JSON_PATH = PROJ_ROOT / \"notebook\" / \"all_pdf_windows_mineru.json\"\n",
    "\n",
    "# Outputs\n",
    "EVAL_RAW_PATH = PROJ_ROOT / \"eval_train_raw.json\"\n",
    "EVAL_SUMMARY_PATH = PROJ_ROOT / \"eval_train_scored.json\"\n",
    "\n",
    "print(\"Notebook Dir:\", NOTEBOOK_DIR)\n",
    "print(\"Project Root :\", PROJ_ROOT)\n",
    "print(\"Train JSON   :\", TRAIN_PATH)\n",
    "print(\"Chunks JSON  :\", CHUNK_JSON_PATH)\n",
    "\n",
    "# --- RAG behavior flags (your SimpleRAG reads these) ---\n",
    "env = os.environ.copy()\n",
    "env.update({\n",
    "    \"LOCK_SOURCE\":  \"1\",   # force filename/page to top evidence\n",
    "    \"STRICT_RERANK\":\"0\",   # set \"1\" to fail fast if rerank API hiccups\n",
    "    \"DEBUG_RAG\":    \"1\",   # include telemetry in outputs\n",
    "    \"LIMIT_PER_FILE\": \"12\",\n",
    "    \"PAGE_OFFSET\":  \"0\",   # MinerU 0-based -> leaderboard 1-based\n",
    "    \"BM25_TOPN\":\"25\",\n",
    "    \"RRF_K\":\"90\",\n",
    "})\n",
    "os.environ.update(env)\n"
   ]
  },
  {
   "cell_type": "code",
   "execution_count": 14,
   "id": "a7e5722d",
   "metadata": {},
   "outputs": [
    {
     "name": "stdout",
     "output_type": "stream",
     "text": [
      "加载所有页chunk...\n",
      "共加载 10053 个chunk\n",
      "生成嵌入...\n"
     ]
    },
    {
     "name": "stderr",
     "output_type": "stream",
     "text": [
      "Embedding: 100%|██████████| 315/315 [06:06<00:00,  1.16s/batch]\n",
      "Building prefix dict from the default dictionary ...\n",
      "Loading model from cache C:\\Users\\liuch\\AppData\\Local\\Temp\\jieba.cache\n"
     ]
    },
    {
     "name": "stdout",
     "output_type": "stream",
     "text": [
      "存储向量...\n",
      "构建文件级BM25索引...\n"
     ]
    },
    {
     "name": "stderr",
     "output_type": "stream",
     "text": [
      "Loading model cost 0.690 seconds.\n",
      "Prefix dict has been built successfully.\n"
     ]
    },
    {
     "name": "stdout",
     "output_type": "stream",
     "text": [
      "RAG向量库构建完成！\n"
     ]
    }
   ],
   "source": [
    "# Create your reranker beforehand\n",
    "# reranker = HybridReranker(model_name=\"BAAI/bge-reranker-base\")\n",
    "reranker = SiliconFlowReranker()\n",
    "rag = SimpleRAG(\n",
    "    chunk_json_path=CHUNK_JSON_PATH,  # or your page/block chunk file\n",
    "    use_rerank=True,\n",
    "    candidate_k=120,\n",
    "    final_k=5,\n",
    "    reranker=reranker,\n",
    ")\n",
    "rag.setup()\n"
   ]
  },
  {
   "cell_type": "code",
   "execution_count": 15,
   "id": "a7135184",
   "metadata": {},
   "outputs": [
    {
     "name": "stdout",
     "output_type": "stream",
     "text": [
      "Train size = 118 | Sample size = 59\n"
     ]
    },
    {
     "data": {
      "text/plain": [
       "[0, 3, 4, 5, 10, 11, 12, 13, 14, 15]"
      ]
     },
     "execution_count": 15,
     "metadata": {},
     "output_type": "execute_result"
    }
   ],
   "source": [
    "# 3) Load train and sample\n",
    "with open(TRAIN_PATH, \"r\", encoding=\"utf-8\") as f:\n",
    "    train_data = json.load(f)\n",
    "\n",
    "N = len(train_data)\n",
    "random.seed(42)\n",
    "\n",
    "sample_size = max(1, math.ceil(N * 0.50))\n",
    "all_idx = list(range(N))\n",
    "sample_idx = sorted(random.sample(all_idx, sample_size)) if sample_size < N else all_idx\n",
    "\n",
    "print(f\"Train size = {N} | Sample size = {len(sample_idx)}\")\n",
    "sample_idx[:10]\n"
   ]
  },
  {
   "cell_type": "code",
   "execution_count": 16,
   "id": "9e777c22",
   "metadata": {},
   "outputs": [],
   "source": [
    "# 4) Jaccard helper\n",
    "def jaccard_char(a: str, b: str) -> float:\n",
    "    a = (a or \"\").strip()\n",
    "    b = (b or \"\").strip()\n",
    "    if not a and not b:\n",
    "        return 1.0\n",
    "    set_a, set_b = set(a), set(b)\n",
    "    union = set_a | set_b\n",
    "    inter = set_a & set_b\n",
    "    return len(inter) / len(union) if union else 0.0\n"
   ]
  },
  {
   "cell_type": "code",
   "execution_count": 17,
   "id": "81be45bb",
   "metadata": {},
   "outputs": [
    {
     "name": "stdout",
     "output_type": "stream",
     "text": [
      "[1/59] 根据联邦制药（03933.HK）的公司发展历程，请简述其在2023年的重大产品临床进展。...\n",
      "[2/59] 联邦制药的UBT37034在超重/肥胖适应症方面取得了哪些临床前数据？...\n",
      "[3/59] 联邦制药的TUL01101片剂和软膏剂在特应性皮炎治疗中的疗效如何？...\n",
      "[4/59] 根据《联邦制药-港股公司研究报告-创新突破三靶点战略联姻诺和诺德-250712》文件内容，请问联邦制药在2024年的营业...\n",
      "[5/59] 极兔速递-W，根据图表和文字信息，请分析东南亚电商市场的发展潜力及其对极兔速递的影响。...\n",
      "[6/59] 极兔速递-W：2024年单位运输成本和分拣成本分别下降了多少百分比？...\n",
      "[7/59] 极兔速递-W的跨境物流业务未来发展方向如何？...\n",
      "[8/59] 根据华创证券对凌云股份的深度研究报告，请问该公司在2024年的主要产品收入占比是多少？...\n",
      "[9/59] 关于凌云股份（600480）的热冲压技术应用和发展前景，能否详细解释热冲压成型工艺与冷冲压成型工艺的主要区别？...\n",
      "[10/59] 根据华创证券对凌云股份（600480）的深度研究报告，请问该公司在2024年的热成型客户拓展情况如何？...\n"
     ]
    },
    {
     "name": "stderr",
     "output_type": "stream",
     "text": [
      "Infer on train sample:   0%|          | 0/59 [00:23<?, ?it/s]"
     ]
    },
    {
     "name": "stdout",
     "output_type": "stream",
     "text": [
      "[11/59] 关于凌云股份（600480）的德国WAG业务板块及客户情况，请问具体有哪些主要客户？...\n"
     ]
    },
    {
     "name": "stderr",
     "output_type": "stream",
     "text": [
      "Infer on train sample:   0%|          | 0/59 [00:24<?, ?it/s]"
     ]
    },
    {
     "name": "stdout",
     "output_type": "stream",
     "text": [
      "[12/59] 关于凌云股份（600480）的热成型电池盒双轮驱动传感器加速布局，请问其在新能源汽车领域的具体布局情况如何？...\n"
     ]
    },
    {
     "name": "stderr",
     "output_type": "stream",
     "text": [
      "Infer on train sample:   2%|▏         | 1/59 [00:28<27:15, 28.20s/it]"
     ]
    },
    {
     "name": "stdout",
     "output_type": "stream",
     "text": [
      "[13/59] 根据凌云股份（600480）的深度研究报告，请问亚大集团在乘用车和商用车管路产品应用方面分别有哪些具体的产品？...\n",
      "[14/59] 关于凌云股份（600480）的力传感器业务，具体应用场景有哪些？...\n"
     ]
    },
    {
     "name": "stderr",
     "output_type": "stream",
     "text": [
      "Infer on train sample:   2%|▏         | 1/59 [00:34<27:15, 28.20s/it]"
     ]
    },
    {
     "name": "stdout",
     "output_type": "stream",
     "text": [
      "[15/59] 如何分析广联达在“两新一重”建设政策下的业绩表现？...\n"
     ]
    },
    {
     "name": "stderr",
     "output_type": "stream",
     "text": [
      "Infer on train sample:   2%|▏         | 1/59 [00:35<27:15, 28.20s/it]"
     ]
    },
    {
     "name": "stdout",
     "output_type": "stream",
     "text": [
      "[16/59] 如何分析广联达在数字化转型中的增长潜力？...\n"
     ]
    },
    {
     "name": "stderr",
     "output_type": "stream",
     "text": [
      "Infer on train sample:   3%|▎         | 2/59 [00:38<16:45, 17.63s/it]"
     ]
    },
    {
     "name": "stdout",
     "output_type": "stream",
     "text": [
      "[17/59] 广联达的数字施工业务在2020年的资金压力如何？与同行业其他企业相比，其资金压力有何特点？...\n"
     ]
    },
    {
     "name": "stderr",
     "output_type": "stream",
     "text": [
      "Infer on train sample:   5%|▌         | 3/59 [00:41<10:02, 10.75s/it]"
     ]
    },
    {
     "name": "stdout",
     "output_type": "stream",
     "text": [
      "[18/59] 广联达的施工总承包资质分为几个类别？每个类别分别对应哪些工程类型？...\n"
     ]
    },
    {
     "name": "stderr",
     "output_type": "stream",
     "text": [
      "Infer on train sample:   5%|▌         | 3/59 [00:52<10:02, 10.75s/it]"
     ]
    },
    {
     "name": "stdout",
     "output_type": "stream",
     "text": [
      "[19/59] 如何评估广联达在数字化转型过程中面临的挑战及其应对策略？...\n"
     ]
    },
    {
     "name": "stderr",
     "output_type": "stream",
     "text": [
      "Infer on train sample:   5%|▌         | 3/59 [00:54<10:02, 10.75s/it]"
     ]
    },
    {
     "name": "stdout",
     "output_type": "stream",
     "text": [
      "[20/59] 如何评估广联达在数字化转型过程中面临的安全事故和质量问题？...\n"
     ]
    },
    {
     "name": "stderr",
     "output_type": "stream",
     "text": [
      "Infer on train sample:   5%|▌         | 3/59 [00:55<10:02, 10.75s/it]"
     ]
    },
    {
     "name": "stdout",
     "output_type": "stream",
     "text": [
      "[21/59] 如何评估广联达在数字化转型中的竞争优势？...\n"
     ]
    },
    {
     "name": "stderr",
     "output_type": "stream",
     "text": [
      "Infer on train sample:   5%|▌         | 3/59 [00:57<10:02, 10.75s/it]"
     ]
    },
    {
     "name": "stdout",
     "output_type": "stream",
     "text": [
      "[22/59] 广联达：如何看待其数字造价业务的增长潜力？...\n"
     ]
    },
    {
     "name": "stderr",
     "output_type": "stream",
     "text": [
      "Infer on train sample:   5%|▌         | 3/59 [00:58<10:02, 10.75s/it]"
     ]
    },
    {
     "name": "stdout",
     "output_type": "stream",
     "text": [
      "[23/59] 广联达的数字造价业务未来成长空间是多少？...\n"
     ]
    },
    {
     "name": "stderr",
     "output_type": "stream",
     "text": [
      "Infer on train sample:   5%|▌         | 3/59 [01:01<10:02, 10.75s/it]"
     ]
    },
    {
     "name": "stdout",
     "output_type": "stream",
     "text": [
      "[24/59] 如何分析广联达在数字施工业务上的增长潜力？...\n"
     ]
    },
    {
     "name": "stderr",
     "output_type": "stream",
     "text": [
      "Infer on train sample:   5%|▌         | 3/59 [01:13<10:02, 10.75s/it]"
     ]
    },
    {
     "name": "stdout",
     "output_type": "stream",
     "text": [
      "[25/59] 如何分析广联达云造价业务的营收增长趋势及其与房屋新开工面积增速的关系？...\n"
     ]
    },
    {
     "name": "stderr",
     "output_type": "stream",
     "text": [
      "Infer on train sample:   5%|▌         | 3/59 [01:14<10:02, 10.75s/it]"
     ]
    },
    {
     "name": "stdout",
     "output_type": "stream",
     "text": [
      "[26/59] 广联达：根据图表130和131，预测2025年我国电子招标采购交易规模将达到多少亿元？...\n"
     ]
    },
    {
     "name": "stderr",
     "output_type": "stream",
     "text": [
      "Infer on train sample:   5%|▌         | 3/59 [01:20<10:02, 10.75s/it]"
     ]
    },
    {
     "name": "stdout",
     "output_type": "stream",
     "text": [
      "[27/59] 关于广联达的CAD快速看图工具及其七大功能价值，请问这些功能如何具体提升用户的工作效率？...\n"
     ]
    },
    {
     "name": "stderr",
     "output_type": "stream",
     "text": [
      "Infer on train sample:   5%|▌         | 3/59 [01:24<10:02, 10.75s/it]"
     ]
    },
    {
     "name": "stdout",
     "output_type": "stream",
     "text": [
      "[28/59] 如何评价广联达在搅拌站材料核算系统上的核心功能及其工作流程？...\n"
     ]
    },
    {
     "name": "stderr",
     "output_type": "stream",
     "text": [
      "Infer on train sample:   5%|▌         | 3/59 [01:28<10:02, 10.75s/it]"
     ]
    },
    {
     "name": "stdout",
     "output_type": "stream",
     "text": [
      "[29/59] 如何评估广联达在2019年至2021年上半年期间，施工业务的客户覆盖率和渗透率的变化趋势？...\n"
     ]
    },
    {
     "name": "stderr",
     "output_type": "stream",
     "text": [
      "Infer on train sample:   5%|▌         | 3/59 [01:28<10:02, 10.75s/it]"
     ]
    },
    {
     "name": "stdout",
     "output_type": "stream",
     "text": [
      "[30/59] 如何评估广联达在数字化转型中的竞争优势及其未来增长潜力？...\n"
     ]
    },
    {
     "name": "stderr",
     "output_type": "stream",
     "text": [
      "Infer on train sample:   5%|▌         | 3/59 [01:29<10:02, 10.75s/it]"
     ]
    },
    {
     "name": "stdout",
     "output_type": "stream",
     "text": [
      "[31/59] 广联达：根据图表217和218，您能否分析一下国家在支持工业软件和建筑业软件系统自主可控方面的政策趋势？...\n"
     ]
    },
    {
     "name": "stderr",
     "output_type": "stream",
     "text": [
      "Infer on train sample:  14%|█▎        | 8/59 [01:32<08:46, 10.33s/it]"
     ]
    },
    {
     "name": "stdout",
     "output_type": "stream",
     "text": [
      "[32/59] 如何分析广联达（002410.SZ）在2021年的PS估值水平及其与可比公司的差异？...\n"
     ]
    },
    {
     "name": "stderr",
     "output_type": "stream",
     "text": [
      "Infer on train sample:  36%|███▌      | 21/59 [01:33<01:45,  2.77s/it]"
     ]
    },
    {
     "name": "stdout",
     "output_type": "stream",
     "text": [
      "[33/59] 千味央厨的股价走势如何？...\n"
     ]
    },
    {
     "name": "stderr",
     "output_type": "stream",
     "text": [
      "Infer on train sample:  37%|███▋      | 22/59 [01:34<01:36,  2.61s/it]"
     ]
    },
    {
     "name": "stdout",
     "output_type": "stream",
     "text": [
      "[34/59] 千味央厨的速冻米面制品产品结构与日本相比有何差异？...\n"
     ]
    },
    {
     "name": "stderr",
     "output_type": "stream",
     "text": [
      "Infer on train sample:  37%|███▋      | 22/59 [01:34<01:36,  2.61s/it]"
     ]
    },
    {
     "name": "stdout",
     "output_type": "stream",
     "text": [
      "[35/59] 千味央厨 (001215 CH) 的速冻米面业务在餐饮端的增长潜力如何？...\n"
     ]
    },
    {
     "name": "stderr",
     "output_type": "stream",
     "text": [
      "Infer on train sample:  37%|███▋      | 22/59 [01:43<01:36,  2.61s/it]"
     ]
    },
    {
     "name": "stdout",
     "output_type": "stream",
     "text": [
      "[36/59] 根据华泰证券发布的《千味央厨-千寻百味乘势而上》报告，结合图表23和24的数据，请问2025年国内餐饮端速冻米面市场的潜...\n"
     ]
    },
    {
     "name": "stderr",
     "output_type": "stream",
     "text": [
      "Infer on train sample:  42%|████▏     | 25/59 [01:45<01:38,  2.89s/it]"
     ]
    },
    {
     "name": "stdout",
     "output_type": "stream",
     "text": [
      "[37/59] 千味央厨的供应链管理体系如何保障产品质量和供应稳定性？...\n"
     ]
    },
    {
     "name": "stderr",
     "output_type": "stream",
     "text": [
      "Infer on train sample:  42%|████▏     | 25/59 [01:58<01:38,  2.89s/it]"
     ]
    },
    {
     "name": "stdout",
     "output_type": "stream",
     "text": [
      "[38/59] 千味央厨的模拟后厨实验室是如何具体运作的？...\n"
     ]
    },
    {
     "name": "stderr",
     "output_type": "stream",
     "text": [
      "Infer on train sample:  47%|████▋     | 28/59 [02:02<01:53,  3.66s/it]"
     ]
    },
    {
     "name": "stdout",
     "output_type": "stream",
     "text": [
      "[39/59] 千味央厨的餐饮大客户经营数据在2022年第三季度有何变化？...\n"
     ]
    },
    {
     "name": "stderr",
     "output_type": "stream",
     "text": [
      "Infer on train sample:  47%|████▋     | 28/59 [02:04<01:53,  3.66s/it]"
     ]
    },
    {
     "name": "stdout",
     "output_type": "stream",
     "text": [
      "[40/59] 千味央厨的三大新品牌分别针对哪些消费群体？各自的产品特点是什么？...\n"
     ]
    },
    {
     "name": "stderr",
     "output_type": "stream",
     "text": [
      "Infer on train sample:  49%|████▉     | 29/59 [02:07<01:53,  3.78s/it]"
     ]
    },
    {
     "name": "stdout",
     "output_type": "stream",
     "text": [
      "[41/59] 千味央厨公司在2020年的毛利率受原材料价格波动影响如何？...\n"
     ]
    },
    {
     "name": "stderr",
     "output_type": "stream",
     "text": [
      "Infer on train sample:  49%|████▉     | 29/59 [02:08<01:53,  3.78s/it]"
     ]
    },
    {
     "name": "stdout",
     "output_type": "stream",
     "text": [
      "[42/59] 千味央厨2020年的原材料储备占比存货显著提升的具体情况如何？...\n"
     ]
    },
    {
     "name": "stderr",
     "output_type": "stream",
     "text": [
      "Infer on train sample:  49%|████▉     | 29/59 [02:09<01:53,  3.78s/it]"
     ]
    },
    {
     "name": "stdout",
     "output_type": "stream",
     "text": [
      "[43/59] 针对千味央厨的募投项目，其总部基地及研发中心建设的具体投资内容和占比是多少？...\n"
     ]
    },
    {
     "name": "stderr",
     "output_type": "stream",
     "text": [
      "Infer on train sample:  51%|█████     | 30/59 [02:13<01:59,  4.12s/it]"
     ]
    },
    {
     "name": "stdout",
     "output_type": "stream",
     "text": [
      "[44/59] 根据千味央厨的招股书，其2021年的收入预测是多少？...\n",
      "[45/59] 千味央厨：使用OEM代工模式的优势体现在哪些方面？...\n"
     ]
    },
    {
     "name": "stderr",
     "output_type": "stream",
     "text": [
      "Infer on train sample:  53%|█████▎    | 31/59 [02:15<01:44,  3.73s/it]"
     ]
    },
    {
     "name": "stdout",
     "output_type": "stream",
     "text": [
      "[46/59] 关于伊利股份的历史发展和市场竞争，请问在2005年至2013年间，伊利如何通过创新产品和营销策略实现营收突破100亿大关...\n"
     ]
    },
    {
     "name": "stderr",
     "output_type": "stream",
     "text": [
      "Infer on train sample:  59%|█████▉    | 35/59 [02:19<00:57,  2.39s/it]"
     ]
    },
    {
     "name": "stdout",
     "output_type": "stream",
     "text": [
      "[47/59] 根据伊利股份的公司深度报告《王者荣耀行稳致远》，请问伊利在2005年后通过哪些营销策略实现了后来居上？...\n"
     ]
    },
    {
     "name": "stderr",
     "output_type": "stream",
     "text": [
      "Infer on train sample:  59%|█████▉    | 35/59 [02:28<00:57,  2.39s/it]"
     ]
    },
    {
     "name": "stdout",
     "output_type": "stream",
     "text": [
      "[48/59] 根据《伊利股份-公司深度报告》中的内容，请分析影响奶粉行业规模的主要因素，并解释为什么我国奶粉单价高于多个发达国家？...\n"
     ]
    },
    {
     "name": "stderr",
     "output_type": "stream",
     "text": [
      "Infer on train sample:  64%|██████▍   | 38/59 [02:31<01:01,  2.94s/it]"
     ]
    },
    {
     "name": "stdout",
     "output_type": "stream",
     "text": [
      "[49/59] 根据《伊利股份-公司深度报告》中的内容，请问伊利在母乳研究方面有哪些重要成就？...\n"
     ]
    },
    {
     "name": "stderr",
     "output_type": "stream",
     "text": [
      "Infer on train sample:  64%|██████▍   | 38/59 [02:36<01:01,  2.94s/it]"
     ]
    },
    {
     "name": "stdout",
     "output_type": "stream",
     "text": [
      "[50/59] 伊利股份的奶酪业务发展现状如何？...\n"
     ]
    },
    {
     "name": "stderr",
     "output_type": "stream",
     "text": [
      "Infer on train sample:  69%|██████▉   | 41/59 [02:37<00:44,  2.49s/it]"
     ]
    },
    {
     "name": "stdout",
     "output_type": "stream",
     "text": [
      "[51/59] 广联达（002410）的数字建筑平台战略如何实现软硬一体化？...\n",
      "[52/59] 广联达（002410）的施工数字化转型一站式服务如何具体实现？...\n"
     ]
    },
    {
     "name": "stderr",
     "output_type": "stream",
     "text": [
      "Infer on train sample:  69%|██████▉   | 41/59 [02:37<00:44,  2.49s/it]"
     ]
    },
    {
     "name": "stdout",
     "output_type": "stream",
     "text": [
      "[53/59] 广联达（002410）在2015年至2018年间，通过哪些具体措施推动了“数字企业+智慧工地+BIM建造”的发展？...\n"
     ]
    },
    {
     "name": "stderr",
     "output_type": "stream",
     "text": [
      "Infer on train sample:  69%|██████▉   | 41/59 [02:45<00:44,  2.49s/it]"
     ]
    },
    {
     "name": "stdout",
     "output_type": "stream",
     "text": [
      "[54/59] 广联达的数字企业业务在2019年至2021年间发生了哪些变化？...\n"
     ]
    },
    {
     "name": "stderr",
     "output_type": "stream",
     "text": [
      "Infer on train sample:  71%|███████   | 42/59 [02:49<01:10,  4.16s/it]"
     ]
    },
    {
     "name": "stdout",
     "output_type": "stream",
     "text": [
      "[55/59] 广联达（002410）：BIM5D+智慧工地平台在施工业务中的应用现状如何？...\n"
     ]
    },
    {
     "name": "stderr",
     "output_type": "stream",
     "text": [
      "Infer on train sample:  71%|███████   | 42/59 [03:00<01:10,  4.16s/it]"
     ]
    },
    {
     "name": "stdout",
     "output_type": "stream",
     "text": [
      "[56/59] 广联达在数字建筑一体化领域采取了哪些具体的落地打法？...\n"
     ]
    },
    {
     "name": "stderr",
     "output_type": "stream",
     "text": [
      "Infer on train sample:  71%|███████   | 42/59 [03:19<01:10,  4.16s/it]"
     ]
    },
    {
     "name": "stdout",
     "output_type": "stream",
     "text": [
      "[57/59] 广联达（002410）在2021年云收入占比达到多少？...\n"
     ]
    },
    {
     "name": "stderr",
     "output_type": "stream",
     "text": [
      "Infer on train sample:  71%|███████   | 42/59 [03:21<01:10,  4.16s/it]"
     ]
    },
    {
     "name": "stdout",
     "output_type": "stream",
     "text": [
      "[58/59] 广联达（002410）的数字设计业务在2021年下半年将如何推进？...\n"
     ]
    },
    {
     "name": "stderr",
     "output_type": "stream",
     "text": [
      "Infer on train sample:  78%|███████▊  | 46/59 [03:26<01:27,  6.73s/it]"
     ]
    },
    {
     "name": "stdout",
     "output_type": "stream",
     "text": [
      "[59/59] 广联达（002410）在数字建筑一体化方面有哪些具体的产品定位和解决方案？...\n"
     ]
    },
    {
     "name": "stderr",
     "output_type": "stream",
     "text": [
      "Infer on train sample: 100%|██████████| 59/59 [14:50<00:00, 15.10s/it]"
     ]
    },
    {
     "name": "stdout",
     "output_type": "stream",
     "text": [
      "Saved raw predictions to: d:\\Datawhale\\Multimodal-RAG-Competitions\\eval_train_raw.json\n"
     ]
    },
    {
     "name": "stderr",
     "output_type": "stream",
     "text": [
      "\n"
     ]
    }
   ],
   "source": [
    "# 5) Inference\n",
    "def run_one(idx):\n",
    "    item = train_data[idx]\n",
    "    q = item.get(\"question\", \"\")\n",
    "    tqdm.write(f\"[{sample_idx.index(idx)+1}/{len(sample_idx)}] {q[:60]}...\")\n",
    "    pred = rag.generate_answer(q, top_k=5)\n",
    "    return idx, pred\n",
    "\n",
    "results = []\n",
    "with concurrent.futures.ThreadPoolExecutor(max_workers=10) as ex:\n",
    "    for out in tqdm(ex.map(run_one, sample_idx), total=len(sample_idx), desc=\"Infer on train sample\"):\n",
    "        results.append(out)\n",
    "\n",
    "# Save raw (idx, pred) for debugging\n",
    "with open(EVAL_RAW_PATH, \"w\", encoding=\"utf-8\") as f:\n",
    "    json.dump(results, f, ensure_ascii=False, indent=2)\n",
    "print(f\"Saved raw predictions to: {EVAL_RAW_PATH}\")\n"
   ]
  },
  {
   "cell_type": "markdown",
   "id": "6a26f5f2",
   "metadata": {},
   "source": [
    "## 6) Scoring vs Ground Truth\n",
    "Score per item:\n",
    "- page_match: 1 if exact page equals, else 0 (×0.25)\n",
    "- filename_match: 1 if exact filename equals, else 0 (×0.25)\n",
    "- answer_jaccard: char Jaccard (×0.5)\n"
   ]
  },
  {
   "cell_type": "code",
   "execution_count": 18,
   "id": "1de5ca5d",
   "metadata": {},
   "outputs": [
    {
     "name": "stdout",
     "output_type": "stream",
     "text": [
      "Saved scored results to: d:\\Datawhale\\Multimodal-RAG-Competitions\\eval_train_scored.json\n",
      "max score: 0.9102564102564102\n",
      "Mean score: 0.4234\n",
      "min score: 0.036231884057971016\n",
      "Mean Jaccard: 0.3213\n",
      "Filename exact@1: 0.5763\n",
      "Page exact@1: 0.4746\n"
     ]
    }
   ],
   "source": [
    "# 6) Score predictions\n",
    "idx2pred = {idx: pred for idx, pred in results}\n",
    "\n",
    "scored_rows = []\n",
    "for idx in sample_idx:\n",
    "    gt = train_data[idx]\n",
    "    pred = idx2pred.get(idx, {})\n",
    "\n",
    "    gt_q = gt.get(\"question\", \"\")\n",
    "    gt_a = gt.get(\"answer\", \"\")\n",
    "    gt_f = gt.get(\"filename\", \"\")\n",
    "    gt_p = gt.get(\"page\", \"\")\n",
    "\n",
    "    pr_a = pred.get(\"answer\", \"\")\n",
    "    pr_f = pred.get(\"filename\", \"\")\n",
    "    pr_p = pred.get(\"page\", \"\")\n",
    "\n",
    "    page_match = 1.0 if str(pr_p) == str(gt_p) else 0.0\n",
    "    filename_match = 1.0 if str(pr_f) == str(gt_f) else 0.0\n",
    "    answer_sim = jaccard_char(str(pr_a), str(gt_a))\n",
    "\n",
    "    score = 0.25 * page_match + 0.25 * filename_match + 0.5 * answer_sim\n",
    "\n",
    "    scored_rows.append({\n",
    "        \"idx\": idx,\n",
    "        \"question\": gt_q,\n",
    "        \"gt_answer\": gt_a,\n",
    "        \"pr_answer\": pr_a,\n",
    "        \"gt_filename\": gt_f,\n",
    "        \"pr_filename\": pr_f,\n",
    "        \"gt_page\": gt_p,\n",
    "        \"pr_page\": pr_p,\n",
    "        \"page_match\": page_match,\n",
    "        \"filename_match\": filename_match,\n",
    "        \"answer_jaccard\": answer_sim,\n",
    "        \"score\": score,\n",
    "    })\n",
    "\n",
    "# Sort by score ascending to inspect weak cases first\n",
    "scored_rows_sorted = sorted(scored_rows, key=lambda x: x[\"score\"])\n",
    "\n",
    "with open(EVAL_SUMMARY_PATH, \"w\", encoding=\"utf-8\") as f:\n",
    "    json.dump(scored_rows_sorted, f, ensure_ascii=False, indent=2)\n",
    "\n",
    "print(f\"Saved scored results to: {EVAL_SUMMARY_PATH}\")\n",
    "print(f\"max score: {max(r['score'] for r in scored_rows_sorted)}\")\n",
    "print(f\"Mean score: {sum(r['score'] for r in scored_rows_sorted)/len(scored_rows_sorted):.4f}\")\n",
    "print(f\"min score: {min(r['score'] for r in scored_rows_sorted) }\")\n",
    "print(f\"Mean Jaccard: {sum(r['answer_jaccard'] for r in scored_rows_sorted)/len(scored_rows_sorted):.4f}\")\n",
    "print(f\"Filename exact@1: {sum(r['filename_match'] for r in scored_rows_sorted)/len(scored_rows_sorted):.4f}\")\n",
    "print(f\"Page exact@1: {sum(r['page_match'] for r in scored_rows_sorted)/len(scored_rows_sorted):.4f}\")\n"
   ]
  },
  {
   "cell_type": "markdown",
   "id": "094ec94c",
   "metadata": {},
   "source": [
    "max score: 0.8116883116883117  \n",
    "Mean score: 0.3678  \n",
    "min score: 0.06818181818181818  \n",
    "Mean Jaccard: 0.3118  \n",
    "Filename exact@1: 0.4407  \n",
    "Page exact@1: 0.4068  "
   ]
  },
  {
   "cell_type": "markdown",
   "id": "7b900b85",
   "metadata": {},
   "source": [
    "Saved scored results to: d:\\Datawhale\\Multimodal-RAG-Competitions\\eval_train_scored.json  \n",
    "max score: 0.5576923076923077  \n",
    "Mean score: 0.3201  \n",
    "min score: 0.08403361344537816  \n",
    "Mean Jaccard: 0.3068  \n",
    "Filename exact@1: 0.5833  \n",
    "Page exact@1: 0.0833  "
   ]
  },
  {
   "cell_type": "markdown",
   "id": "4e73f091",
   "metadata": {},
   "source": [
    "Mineru + BN25\n",
    "max score: 0.4962686567164179  \n",
    "Mean score: 0.3231  \n",
    "min score: 0.09130434782608696  \n",
    "Mean Jaccard: 0.3128\n",
    "Filename exact@1: 0.5833  \n",
    "Page exact@1: 0.0833  "
   ]
  },
  {
   "cell_type": "markdown",
   "id": "d9995b2d",
   "metadata": {},
   "source": [
    "Note: With BM25 rerank :\n",
    "max score: 0.5732323232323233  \n",
    "Mean score: 0.2638   \n",
    "min score: 0.09668508287292818  \n",
    "Mean Jaccard: 0.3193  \n",
    "Filename exact@1: 0.4167  \n",
    "Page exact@1: 0.0000  "
   ]
  },
  {
   "cell_type": "code",
   "execution_count": 80,
   "id": "e7fda451",
   "metadata": {},
   "outputs": [
    {
     "name": "stdout",
     "output_type": "stream",
     "text": [
      "— Worst cases —\n",
      "\n",
      "Score: 0.06470588235294118\n",
      "Q: 千味央厨的股价走势如何？\n",
      "GT: 根据图片中的图表6，千味央厨的股价走势如下：\n",
      "\n",
      "1. **新股上市**：2021年9月6日至2021年11月期间，股价从约22倍PE-TTM上升到约65倍PE-TTM。\n",
      "2. **叠加大众品提价潮**：2021年11月至2022年4月，股价从约65倍PE-TTM下降到约42倍PE-TTM。\n",
      "3. **消费力疲软**：2022年4月至2022年6\n",
      "PR: 检索内容未提供具体股价数据，仅提及最近半年股价相对走势图表（见附件图片）\n",
      "GT file/page: 千味央厨-千寻百味乘势而上-22122726页.pdf 6\n",
      "PR file/page: 千味央厨-深度报告深耕餐饮渠道研发助力发展-22033022页.pdf 1\n",
      "\n",
      "Score: 0.0872093023255814\n",
      "Q: 如何分析广联达在数字施工业务上的增长潜力？\n",
      "GT: 广联达在数字施工业务上的增长潜力可以从以下几个方面进行分析：\n",
      "\n",
      "1. **产品体系完善**：\n",
      "   - 广联达已经形成了“平台+组件”的数字施工产品体系，覆盖企业级、项目级、岗位级三层和商务、技术、生产各业务线。这表明公司在施工数字化上有完整的产品体系。\n",
      "\n",
      "2. **快速调整策略**：\n",
      "   - 在建筑业数字化转型的大背景下，广联达能够快速不断地调整策略，这有助于其在施工数字化上保持竞争力并引领公司的第二增长曲线。\n",
      "\n",
      "3. **市场潜力**：\n",
      "   - 施工业务\n",
      "PR: 广联达数字施工业务增长潜力主要源于客户结构稳定（服务行业龙头施工总承包商）、数字化渗透率偏低的市场空间、经济周期影响弱及规模化效应。预计2024-2025年实现盈亏平衡，未来5年营收增速至少30%，毛利率稳定在65%水平。\n",
      "GT file/page: 广联达-再谈广联达当前时点下如何看待其三条增长曲线-220217131页.pdf 56\n",
      "PR file/page: 广联达-造价筑底施工决胜-22041233页.pdf 20\n",
      "\n",
      "Score: 0.08741258741258741\n",
      "Q: 广联达（002410）的数字建筑平台战略如何实现软硬一体化？\n",
      "GT: 根据图片中的内容，广联达（002410）的数字建筑平台战略通过以下方式实现软硬一体化：\n",
      "\n",
      "1. **业务一体化**：公司业务内容随建筑产业链延伸，覆盖设计、造价、施工等环节，并面向不同岗位提供丰富模块，覆盖企业、项目、岗位等环节。各业务间协同效应通过一体化建设逐步体现。\n",
      "\n",
      "2. **软硬一体化**：在图中右侧橙色框内明确标注了“软硬一体化”，表明公司在数字建筑平台的战略中强调软硬件的一体化发展。\n",
      "\n",
      "综上所述，广联达通过业务\n",
      "PR: 广联达通过物联网传感器进行数据采集，结合高效协同的软件系统实现智能填报与汇总，打通业务与财务数据，形成数据驱动的管理方式，从而实现软硬一体化。\n",
      "GT file/page: 广联达-深度跟踪报告数字建筑一体化领军-21082339页.pdf 5\n",
      "PR file/page: 广联达-再谈广联达当前时点下如何看待其三条增长曲线-220217131页.pdf 101\n",
      "\n",
      "Score: 0.09393939393939393\n",
      "Q: 如何评估广联达在数字化转型过程中面临的挑战及其应对策略？\n",
      "GT: 广联达在数字化转型过程中面临的挑战主要包括以下几个方面：\n",
      "\n",
      "1. **劳动力问题**：\n",
      "   - 工人的体力劳动量较大，施工工作环境较苦，收入较低，导致施工人员流动性大。\n",
      "   - 老龄化现象严重，30岁及以上比例的工人占比逐年提升，接近8成。\n",
      "   - 受教育程度低，建筑施工以简单重复性工作为主，难以提供良好的职业上升通道。\n",
      "\n",
      "2. **项目变化频繁**：\n",
      "   - 建筑项目的设计、预算和时间表可能随时发生变化，影响工期与成本。\n",
      "   - 变\n",
      "PR: 广联达在数字化转型中面临技术迭代压力、国际化运营复杂性及行业转型阻力，通过持续研发投入、生态资源整合、战略合作（如与万达、Progman）及发布数字建筑平台解决方案应对。\n",
      "GT file/page: 广联达-再谈广联达当前时点下如何看待其三条增长曲线-220217131页.pdf 32\n",
      "PR file/page: 广联达-公司深度报告数字建筑全生命周期解决方案领军者-24041638页.pdf 5\n",
      "\n",
      "Score: 0.09668508287292818\n",
      "Q: 如何分析广联达在数字化转型中的增长潜力？\n",
      "GT: 广联达在数字化转型中的增长潜力可以从以下几个方面进行分析：\n",
      "\n",
      "1. **市场规模**：\n",
      "   - 根据报告，中国建筑业总产值2020年为26.4万亿元，占GDP比重约为26%。这表明建筑业市场规模庞大，数字化转型的空间巨大。\n",
      "\n",
      "2. **政策支持**：\n",
      "   - 政府政策支持建筑业数字化转型，如推动清单计价模式，有助于形成良好的市场竞争机制，促进企业提升技术水平和管理能力。\n",
      "\n",
      "3. **技术应用**：\n",
      "   - 报告指出，随着移动、云、物联网、BIM等技术的\n",
      "PR: 广联达的数字化增长潜力可通过分部估值法分析，其造价业务SaaS转型带来高毛利与稳定增长，施工业务作为新兴核心动能有望快速扩张，设计业务具备国产替代空间且处于成长早期。参考同行业公司估值倍数及当前低估值水平，整体成长空间显著。\n",
      "GT file/page: 广联达-再谈广联达当前时点下如何看待其三条增长曲线-220217131页.pdf 26\n",
      "PR file/page: 广联达-公司深度报告拥抱建筑数字化拐点SaaS龙头星辰大海刚启航-2022040535页.pdf 30\n",
      "\n",
      "Score: 0.10106382978723404\n",
      "Q: 千味央厨的餐饮大客户经营数据在2022年第三季度有何变化？\n",
      "GT: 根据图片中的图表32和文字内容，千味央厨的餐饮大客户经营数据在2022年第三季度（22Q3）的变化如下：\n",
      "\n",
      "- 肯德基：同店营收同比持平（+0%）\n",
      "- 必胜客：同店营收同比增长2%（+2%）\n",
      "\n",
      "这些数据表明，尽管2022年第二季度（22Q2）相比2022年第一季度（22Q1）出现了显著下滑（16%/-15%），但在第三季度（22Q3）都出现了明显的改善。这反映了\n",
      "PR: 千味央厨2022年第三季度剔除百胜中国后的营收增速达到29%。\n",
      "GT file/page: 千味央厨-千寻百味乘势而上-22122726页.pdf 16\n",
      "PR file/page: 千味央厨-公司深度报告打造央厨之道服务千万餐饮-22121364页.pdf 31\n",
      "\n",
      "— Best cases —\n",
      "\n",
      "Score: 0.7451923076923077\n",
      "Q: 联邦制药的UBT37034在超重/肥胖适应症方面取得了哪些临床前数据？\n",
      "GT: 根据图片中的文字内容，联邦制药的UBT37034在超重/肥胖适应症方面的临床前数据如下：\n",
      "\n",
      "1. UBT37034在饮食诱导肥胖大鼠（DIO Rats）上的临床前数据表明，21天给药后，UBT37034联用替尔泊肽减重13.6%。\n",
      "\n",
      "2. 相比之下，Petrelintide联用替尔泊肽减重13.6%（-9.38%），Cagrilintide联用替尔泊肽减\n",
      "PR: 联邦制药的UBT37034在饮食诱导肥胖大鼠（DIO Rats）临床前试验中，联用替尔泊肽21天后减重13.6%，优于其他组合及单药治疗效果。\n",
      "GT file/page: 联邦制药-港股公司研究报告-创新突破三靶点战略联姻诺和诺德-25071225页.pdf 11\n",
      "PR file/page: 联邦制药-港股公司研究报告-创新突破三靶点战略联姻诺和诺德-25071225页.pdf 11\n",
      "\n",
      "Score: 0.75\n",
      "Q: 根据伊利股份的公司深度报告《王者荣耀行稳致远》，请问伊利在2005年后通过哪些营销策略实现了后来居上？\n",
      "GT: 根据伊利股份的公司深度报告《王者荣耀行稳致远》，伊利在2005年后通过以下营销策略实现了后来居上：\n",
      "\n",
      "1. **拿下北京奥运会官方合作伙伴**：在2008年成为北京奥运会官方合作伙伴。\n",
      "2. **综艺节目合作**：在2013年综艺节目逐渐成为新的流量入口后，把握住了中国好声音、奔跑吧兄弟、爸爸去哪儿等爆款节目，逐渐占据营销的上风。\n",
      "\n",
      "这些策略帮助伊利在2005年后实现了后来居上。\n",
      "PR: 伊利在2005年后通过北京奥运会官方合作伙伴（2008）及持续绑定奥运营销（2012-2022），同时把握综艺节目流量入口（如中国好声音、奔跑吧兄弟、爸爸去哪儿等）实现后来居上。\n",
      "GT file/page: 伊利股份-公司深度报告王者荣耀行稳致远-22021459页.pdf 31\n",
      "PR file/page: 伊利股份-公司深度报告王者荣耀行稳致远-22021459页.pdf 31\n",
      "\n",
      "Score: 0.8020833333333333\n",
      "Q: 极兔速递-W：2024年单位运输成本和分拣成本分别下降了多少百分比？\n",
      "GT: 根据图片中的图表和文字内容：\n",
      "\n",
      "- 图41显示，2024年极兔单位运输成本同比下降了11.8%。\n",
      "- 图42显示，2024年极兔单位分拣成本同比下降了44.4%。\n",
      "\n",
      "因此，2024年极兔速递-W的单位运输成本下降了11.8%，单位分拣成本下降了44.4%。\n",
      "PR: 2024年极兔速递-W的单位运输成本同比下降11.8%，单位分拣成本同比下降44.4%。\n",
      "GT file/page: 极兔速递W-港股公司研究报告-系列一东南亚十年磨砺终成锋产业经营双拐点-25070834页.pdf 21\n",
      "PR file/page: 极兔速递W-港股公司研究报告-系列一东南亚十年磨砺终成锋产业经营双拐点-25070834页.pdf 21\n",
      "\n",
      "Score: 0.8103448275862069\n",
      "Q: 联邦制药的TUL01101片剂和软膏剂在特应性皮炎治疗中的疗效如何？\n",
      "GT: 联邦制药的TUL01101片剂和软膏剂在特应性皮炎治疗中的疗效显著，安全性良好。具体表现为：\n",
      "\n",
      "1. **临床结果**：\n",
      "   - Ia期和Ib期临床结果显示，TUL01101在人体内有着良好的量效关系。\n",
      "   - 在患者中疗效显著。\n",
      "\n",
      "2. **安全性**：\n",
      "   - 安全性良好。\n",
      "\n",
      "3. **依从性**：\n",
      "   - 相较注射剂型的度普利尤单抗，TUL01101具备更好的依从性。\n",
      "\n",
      "4\n",
      "PR: 联邦制药的TUL01101片剂和软膏剂在特应性皮炎治疗中表现出显著疗效和良好安全性，临床试验显示其具有良好的量效关系，且依从性优于注射剂型的度普利尤单抗。\n",
      "GT file/page: 联邦制药-港股公司研究报告-创新突破三靶点战略联姻诺和诺德-25071225页.pdf 12\n",
      "PR file/page: 联邦制药-港股公司研究报告-创新突破三靶点战略联姻诺和诺德-25071225页.pdf 12\n",
      "\n",
      "Score: 0.8175675675675675\n",
      "Q: 广联达的施工总承包资质分为几个类别？每个类别分别对应哪些工程类型？\n",
      "GT: 施工总承包资质分为四个类别，分别是：\n",
      "\n",
      "1. 特级\n",
      "2. 一级\n",
      "3. 二级\n",
      "4. 三级\n",
      "\n",
      "每个类别对应的工程类型如下：\n",
      "\n",
      "- 特级：建筑工程、公路工程、铁路工程、港口与航道工程、水利水电工程、电力工程、矿山工程、冶金工程、石油化工工程、市政公用工程、通信工程、机电工程。\n",
      "- 一级：建筑工程、公路工程、铁路工程、港口与航道工程、水利水电工程、电力工程、矿山工程、冶金工程、石油化工工程、市政公用工程、通信工程、机电工程。\n",
      "- 二级：\n",
      "PR: 广联达的施工总承包资质分为四个类别：特级、一级、二级、三级，对应工程类型包括建筑工程、公路工程、铁路工程、港口与航道工程、水利水电工程、电力工程、矿山工程、冶金工程等12大行业。\n",
      "GT file/page: 广联达-再谈广联达当前时点下如何看待其三条增长曲线-220217131页.pdf 29\n",
      "PR file/page: 广联达-再谈广联达当前时点下如何看待其三条增长曲线-220217131页.pdf 29\n",
      "\n",
      "Score: 0.8658536585365854\n",
      "Q: 广联达：根据图表130和131，预测2025年我国电子招标采购交易规模将达到多少亿元？\n",
      "GT: 根据图表131中的预测，2025年我国电子招标采购交易规模有望达到42.6亿元。\n",
      "PR: 根据中研普华测算，2025年我国电子招标采购交易规模有望达到42.6亿元\n",
      "GT file/page: 广联达-再谈广联达当前时点下如何看待其三条增长曲线-220217131页.pdf 72\n",
      "PR file/page: 广联达-再谈广联达当前时点下如何看待其三条增长曲线-220217131页.pdf 72\n"
     ]
    }
   ],
   "source": [
    "# Show a couple of worst and best cases inline (adjust k as needed)\n",
    "k = 6\n",
    "print(\"— Worst cases —\")\n",
    "for r in scored_rows_sorted[:k]:\n",
    "    print(\"\\nScore:\", r[\"score\"])\n",
    "    print(\"Q:\", r[\"question\"])\n",
    "    print(\"GT:\", r[\"gt_answer\"])\n",
    "    print(\"PR:\", r[\"pr_answer\"])\n",
    "    print(\"GT file/page:\", r[\"gt_filename\"], r[\"gt_page\"])\n",
    "    print(\"PR file/page:\", r[\"pr_filename\"], r[\"pr_page\"])\n",
    "\n",
    "print(\"\\n— Best cases —\")\n",
    "for r in scored_rows_sorted[-k:]:\n",
    "    print(\"\\nScore:\", r[\"score\"])\n",
    "    print(\"Q:\", r[\"question\"])\n",
    "    print(\"GT:\", r[\"gt_answer\"])\n",
    "    print(\"PR:\", r[\"pr_answer\"])\n",
    "    print(\"GT file/page:\", r[\"gt_filename\"], r[\"gt_page\"])\n",
    "    print(\"PR file/page:\", r[\"pr_filename\"], r[\"pr_page\"])\n"
   ]
  },
  {
   "cell_type": "markdown",
   "id": "ceb39aa2",
   "metadata": {},
   "source": [
    "### Notes\n",
    "- Set a different **sample fraction** by changing the `0.10` in `math.ceil(N * 0.10)`.\n",
    "- If `filename`/`page` in ground truth differ in minor formatting (e.g., case, spaces), add normalization before comparison.\n",
    "- You can plug this same scorer later for validation on a dev split.\n"
   ]
  }
 ],
 "metadata": {
  "kernelspec": {
   "display_name": "Python 3 (ipykernel)",
   "language": "python",
   "name": "python3"
  },
  "language_info": {
   "codemirror_mode": {
    "name": "ipython",
    "version": 3
   },
   "file_extension": ".py",
   "mimetype": "text/x-python",
   "name": "python",
   "nbconvert_exporter": "python",
   "pygments_lexer": "ipython3",
   "version": "3.11.11"
  }
 },
 "nbformat": 4,
 "nbformat_minor": 5
}
