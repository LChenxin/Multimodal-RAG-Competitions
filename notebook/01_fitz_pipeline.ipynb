{
 "cells": [
  {
   "cell_type": "code",
   "execution_count": 1,
   "id": "50844e13",
   "metadata": {},
   "outputs": [
    {
     "name": "stdout",
     "output_type": "stream",
     "text": [
      "^C\n",
      "Note: you may need to restart the kernel to use updated packages.\n"
     ]
    }
   ],
   "source": [
    "%pip install fitz"
   ]
  },
  {
   "cell_type": "code",
   "execution_count": null,
   "id": "38d3f34a",
   "metadata": {},
   "outputs": [],
   "source": [
    "import fitz  # PyMuPDF\n",
    "import json\n",
    "from pathlib import Path\n"
   ]
  },
  {
   "cell_type": "code",
   "execution_count": 20,
   "id": "fabd30d9",
   "metadata": {},
   "outputs": [],
   "source": [
    "base_dir =  Path().resolve()\n",
    "datas_dir = base_dir.parent / 'data' / 'PDFs' \n",
    "chunk_json_path = base_dir / 'all_pdf_page_chunks.json'"
   ]
  },
  {
   "cell_type": "code",
   "execution_count": null,
   "id": "a5526221",
   "metadata": {},
   "outputs": [
    {
     "name": "stdout",
     "output_type": "stream",
     "text": [
      "找到 132 个 PDF 文件\n"
     ]
    }
   ],
   "source": [
    "pdf_files = list(datas_dir.rglob('*.pdf'))\n",
    "\n",
    "if not pdf_files:\n",
    "    print(f\"警告：在目录 '{datas_dir}' 中未找到任何 PDF 文件。\")\n",
    "else:\n",
    "    print(f\"找到 {len(pdf_files)} 个 PDF 文件\")"
   ]
  },
  {
   "cell_type": "code",
   "execution_count": 27,
   "id": "1e594e6f",
   "metadata": {},
   "outputs": [
    {
     "name": "stdout",
     "output_type": "stream",
     "text": [
      "📄 总共 132 个 PDF 文件，随机抽取 13 个样本：\n",
      " - 公司研究伊利股份-深度报告优秀管理助力长跑胜出净利率有望重回上升通道-2020010831页.pdf\n",
      " - 伊利股份-公司深度报告王者荣耀行稳致远-22021459页.pdf\n",
      " - 千味央厨-深度报告速冻B端优势企业借餐饮长风乘势而起-21090728页.pdf\n",
      " - 千味央厨-厨之道央泱食材中有千味结-21090631页.pdf\n",
      " - 千味央厨-公司首次覆盖餐饮供应链龙头只为优厨之选-22052936页.pdf\n",
      " - 公司研究广联达-深度报告云图已现决胜蓝海-2020011034页.pdf\n",
      " - 公司研究伊利股份-基本面稳定短期存在盈利弹性-21012816页.pdf\n",
      " - 公司研究伊利股份-上市公司深度温故知新走向全球化多元化的新伊利-2020021044页.pdf\n",
      " - 广联达-跟踪报告数字建筑龙头五问五答-21120815页.pdf\n",
      " - 伊利股份-公司研究报告-平台化的乳企龙头引领行业高质量转型-25071638页.pdf\n",
      " - 伊利股份-公司研究专题报告高股息铸盾景气度为矛当前重点推荐-23051519页.pdf\n",
      " - 公司研究伊利股份-乳制品龙头国际赛道扬帆起航-2020031831页.pdf\n",
      " - 千味央厨-公司研究报告-深耕餐饮供应链为人间千味-23011258页.pdf\n"
     ]
    }
   ],
   "source": [
    "import random\n",
    "\n",
    "random.seed(42)\n",
    "sample_size = max(1, int(len(pdf_files) * 0.1))  # 至少抽 1 个\n",
    "sampled_pdf_files = random.sample(pdf_files, sample_size)\n",
    "\n",
    "print(f\"📄 总共 {len(pdf_files)} 个 PDF 文件，随机抽取 {sample_size} 个样本：\")\n",
    "for f in sampled_pdf_files:\n",
    "    print(\" -\", f.name)\n"
   ]
  },
  {
   "cell_type": "code",
   "execution_count": 28,
   "id": "de809991",
   "metadata": {},
   "outputs": [
    {
     "name": "stdout",
     "output_type": "stream",
     "text": [
      "📄 正在处理: 公司研究伊利股份-深度报告优秀管理助力长跑胜出净利率有望重回上升通道-2020010831页.pdf\n",
      "📄 正在处理: 伊利股份-公司深度报告王者荣耀行稳致远-22021459页.pdf\n",
      "📄 正在处理: 千味央厨-深度报告速冻B端优势企业借餐饮长风乘势而起-21090728页.pdf\n",
      "📄 正在处理: 千味央厨-厨之道央泱食材中有千味结-21090631页.pdf\n",
      "📄 正在处理: 千味央厨-公司首次覆盖餐饮供应链龙头只为优厨之选-22052936页.pdf\n",
      "📄 正在处理: 公司研究广联达-深度报告云图已现决胜蓝海-2020011034页.pdf\n",
      "📄 正在处理: 公司研究伊利股份-基本面稳定短期存在盈利弹性-21012816页.pdf\n",
      "📄 正在处理: 公司研究伊利股份-上市公司深度温故知新走向全球化多元化的新伊利-2020021044页.pdf\n",
      "📄 正在处理: 广联达-跟踪报告数字建筑龙头五问五答-21120815页.pdf\n",
      "📄 正在处理: 伊利股份-公司研究报告-平台化的乳企龙头引领行业高质量转型-25071638页.pdf\n",
      "📄 正在处理: 伊利股份-公司研究专题报告高股息铸盾景气度为矛当前重点推荐-23051519页.pdf\n",
      "📄 正在处理: 公司研究伊利股份-乳制品龙头国际赛道扬帆起航-2020031831页.pdf\n",
      "📄 正在处理: 千味央厨-公司研究报告-深耕餐饮供应链为人间千味-23011258页.pdf\n"
     ]
    }
   ],
   "source": [
    "all_chunks = []\n",
    "\n",
    "for pdf_path in sampled_pdf_files:\n",
    "    file_name_stem = pdf_path.stem\n",
    "    full_file_name = pdf_path.name\n",
    "    print(f\"📄 正在处理: {full_file_name}\")\n",
    "\n",
    "    try:\n",
    "        with fitz.open(pdf_path) as doc:\n",
    "            for page_idx, page in enumerate(doc):\n",
    "                content = page.get_text(\"text\")\n",
    "\n",
    "                if not content.strip():\n",
    "                    continue\n",
    "\n",
    "                chunk = {\n",
    "                    \"id\": f\"{file_name_stem}_page_{page_idx}\",\n",
    "                    \"content\": content,\n",
    "                    \"metadata\": {\n",
    "                        \"page\": page_idx,\n",
    "                        \"file_name\": full_file_name\n",
    "                    }\n",
    "                }\n",
    "                all_chunks.append(chunk)\n",
    "    except Exception as e:\n",
    "        print(f\"⚠️ 处理文件 '{pdf_path}' 时发生错误: {e}\")\n"
   ]
  },
  {
   "cell_type": "code",
   "execution_count": 30,
   "id": "381d3489",
   "metadata": {},
   "outputs": [
    {
     "name": "stdout",
     "output_type": "stream",
     "text": [
      "✅ 抽样页面已保存至: D:\\Datawhale\\Multimodal-RAG-Competitions\\notebook\\all_pdf_page_chunks.json\n"
     ]
    }
   ],
   "source": [
    "chunk_json_path.parent.mkdir(parents=True, exist_ok=True)\n",
    "\n",
    "with open(chunk_json_path, 'w', encoding='utf-8') as f:\n",
    "    json.dump(all_chunks, f, ensure_ascii=False, indent=2)\n",
    "\n",
    "print(f\"✅ 抽样页面已保存至: {chunk_json_path}\")\n"
   ]
  }
 ],
 "metadata": {
  "kernelspec": {
   "display_name": "Python 3",
   "language": "python",
   "name": "python3"
  },
  "language_info": {
   "codemirror_mode": {
    "name": "ipython",
    "version": 3
   },
   "file_extension": ".py",
   "mimetype": "text/x-python",
   "name": "python",
   "nbconvert_exporter": "python",
   "pygments_lexer": "ipython3",
   "version": "3.11.9"
  }
 },
 "nbformat": 4,
 "nbformat_minor": 5
}
